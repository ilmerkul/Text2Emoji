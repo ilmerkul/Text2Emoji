{
 "cells": [
  {
   "cell_type": "markdown",
   "id": "4fe192d4-4656-462f-bf91-475840f7a83d",
   "metadata": {},
   "source": [
    "## Data download"
   ]
  },
  {
   "cell_type": "markdown",
   "id": "b1d40834-0e44-42db-8296-bd92c508175a",
   "metadata": {},
   "source": [
    "Dependency import"
   ]
  },
  {
   "cell_type": "code",
   "execution_count": 9,
   "id": "c3d32f87-0bb5-43e0-859e-0fcfa4db348f",
   "metadata": {},
   "outputs": [],
   "source": [
    "import os\n",
    "import sys"
   ]
  },
  {
   "cell_type": "markdown",
   "id": "9134ad21-d3c3-436d-a75c-3efa6092d073",
   "metadata": {},
   "source": [
    "Add path of project modules to visible area"
   ]
  },
  {
   "cell_type": "code",
   "execution_count": 10,
   "id": "a553a79d-fc2c-4f35-9548-6788cb09e749",
   "metadata": {},
   "outputs": [],
   "source": [
    "nb_dir = os.path.split(os.getcwd())[0]\n",
    "if nb_dir not in sys.path:\n",
    "    sys.path.append(nb_dir)"
   ]
  },
  {
   "cell_type": "code",
   "execution_count": 11,
   "id": "25ef9585-61b4-49b7-bc4a-bdebe20cfaa7",
   "metadata": {},
   "outputs": [],
   "source": [
    "from src.dataset.download import downloadKomeijiForce\n",
    "from loguru import logger\n",
    "from src.utils import set_logger"
   ]
  },
  {
   "cell_type": "markdown",
   "id": "9c54c277-253c-4828-b110-8a35ff25bf3c",
   "metadata": {},
   "source": [
    "Set logger"
   ]
  },
  {
   "cell_type": "code",
   "execution_count": 13,
   "id": "f678692d-3c20-4c8e-a755-d8e106abe315",
   "metadata": {},
   "outputs": [],
   "source": [
    "set_logger()"
   ]
  },
  {
   "cell_type": "markdown",
   "id": "5ee441fc-aa56-42db-9c38-fb240de8ba15",
   "metadata": {},
   "source": [
    "Download KomeijiForce dataset"
   ]
  },
  {
   "cell_type": "code",
   "execution_count": 14,
   "id": "a0783469-84a9-4278-a92c-9cc20073ca92",
   "metadata": {},
   "outputs": [
    {
     "name": "stdout",
     "output_type": "stream",
     "text": [
      "2024-11-02 16:23:47 | INFO | Download KomeijiForce dataset\n"
     ]
    },
    {
     "data": {
      "application/vnd.jupyter.widget-view+json": {
       "model_id": "3bc9c03623244df9a87c5edc6c046d7d",
       "version_major": 2,
       "version_minor": 0
      },
      "text/plain": [
       "Saving the dataset (0/1 shards):   0%|          | 0/503687 [00:00<?, ? examples/s]"
      ]
     },
     "metadata": {},
     "output_type": "display_data"
    },
    {
     "data": {
      "text/plain": [
       "Dataset({\n",
       "    features: ['text', 'emoji', 'topic'],\n",
       "    num_rows: 503687\n",
       "})"
      ]
     },
     "execution_count": 14,
     "metadata": {},
     "output_type": "execute_result"
    }
   ],
   "source": [
    "logger.info('Download KomeijiForce dataset')\n",
    "downloadKomeijiForce('../data/datasets/raw/KomeijiForce')"
   ]
  },
  {
   "cell_type": "code",
   "execution_count": null,
   "id": "de4b1149-4f2b-42ff-9ae9-ef918c539ef6",
   "metadata": {},
   "outputs": [],
   "source": []
  }
 ],
 "metadata": {
  "kernelspec": {
   "display_name": "Python 3 (ipykernel)",
   "language": "python",
   "name": "python3"
  },
  "language_info": {
   "codemirror_mode": {
    "name": "ipython",
    "version": 3
   },
   "file_extension": ".py",
   "mimetype": "text/x-python",
   "name": "python",
   "nbconvert_exporter": "python",
   "pygments_lexer": "ipython3",
   "version": "3.10.1"
  }
 },
 "nbformat": 4,
 "nbformat_minor": 5
}
