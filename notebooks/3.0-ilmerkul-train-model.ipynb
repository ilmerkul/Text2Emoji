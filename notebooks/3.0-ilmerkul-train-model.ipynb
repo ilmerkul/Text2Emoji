{
 "cells": [
  {
   "cell_type": "markdown",
   "id": "7e417019-b827-47b9-89ca-aa406ef52165",
   "metadata": {},
   "source": [
    "## Train model"
   ]
  },
  {
   "cell_type": "markdown",
   "id": "9064e030-020c-4c43-a81c-db904d4dc275",
   "metadata": {},
   "source": [
    "Dependency import"
   ]
  },
  {
   "cell_type": "code",
   "execution_count": 1,
   "id": "8ea68b41-0055-4df2-a231-de056d026a1b",
   "metadata": {},
   "outputs": [],
   "source": [
    "import os\n",
    "import sys"
   ]
  },
  {
   "cell_type": "markdown",
   "id": "ffc73719-8980-4029-a457-948e4a85a6e3",
   "metadata": {},
   "source": [
    "Add path of project modules to visible area"
   ]
  },
  {
   "cell_type": "code",
   "execution_count": 2,
   "id": "6019dccd-8c87-4d47-b676-d566a349d277",
   "metadata": {},
   "outputs": [],
   "source": [
    "nb_dir = os.path.split(os.getcwd())[0]\n",
    "if nb_dir not in sys.path:\n",
    "    sys.path.append(nb_dir)"
   ]
  },
  {
   "cell_type": "code",
   "execution_count": 3,
   "id": "88e1a383-f1ae-4a57-af7f-d16a4200bd18",
   "metadata": {},
   "outputs": [],
   "source": [
    "import torch\n",
    "from torch.optim import Adam, lr_scheduler\n",
    "from torch.nn import CrossEntropyLoss\n",
    "from torch.nn.functional import one_hot\n",
    "from datasets import load_from_disk\n",
    "\n",
    "import sys\n",
    "import signal\n",
    "from datetime import date\n",
    "from omegaconf import OmegaConf\n",
    "from loguru import logger\n",
    "import tqdm\n",
    "\n",
    "from src.model import Text2Emoji\n",
    "from src.parser import Text2EmojiParser\n",
    "from src.dataset import Text2EmojiDataset\n",
    "from src.utils import print_model, seed_all, set_logger\n",
    "from src.utils.train import evaluate_loss_test, print_learn_curve, evaluate_bleu"
   ]
  },
  {
   "cell_type": "markdown",
   "id": "27e05264-7bf8-44e8-80a6-b82f86497717",
   "metadata": {},
   "source": [
    "Train function"
   ]
  },
  {
   "cell_type": "code",
   "execution_count": 30,
   "id": "e5fd8f28-8e39-460d-9c32-8d564945f7a8",
   "metadata": {},
   "outputs": [],
   "source": [
    "def train_model(model, dataset, n_epoch, print_step, emoji_vocab_size, pad_idx, path_save):\n",
    "    device = torch.device('cuda' if torch.cuda.is_available() else 'cpu')\n",
    "\n",
    "    batch_milestones = [2, 4, 7]\n",
    "    batch_sizes = [32, 64, 128, 256]\n",
    "    epoch_emb_requires_grad = 4\n",
    "\n",
    "    model.to(device=device)\n",
    "    optimizer = Adam(model.parameters(), lr=1e-3)\n",
    "    scheduler = lr_scheduler.MultiStepLR(optimizer, milestones=[2, 4, 7], gamma=0.464159)\n",
    "    loss = CrossEntropyLoss()\n",
    "\n",
    "    history = {'train_loss': [], 'test_loss': []}\n",
    "    batch_step = 0\n",
    "    train_loss = 0\n",
    "\n",
    "    test_learn_curve_increases = 0\n",
    "\n",
    "    train_data_loader, test_data_loader = dataset.get_data_loader(batch_sizes[0], pad_idx)\n",
    "    for epoch in range(n_epoch):\n",
    "        if epoch == epoch_emb_requires_grad:\n",
    "            model.emb_requires_grad()\n",
    "\n",
    "        if epoch in batch_milestones:\n",
    "            train_data_loader, test_data_loader = dataset.get_data_loader(batch_sizes[batch_step], pad_idx)\n",
    "            batch_step += 1\n",
    "        batch_size = batch_sizes[batch_step]\n",
    "\n",
    "        logger.info(f'epoch: {epoch + 1}/{n_epoch}, '\n",
    "                    f'lr: {scheduler.get_last_lr()}, '\n",
    "                    f'batch_size: {batch_size}')\n",
    "        for i, batch in tqdm.tqdm(enumerate(train_data_loader)):\n",
    "            model.train()\n",
    "\n",
    "            batch_en_ids = batch['en_ids']\n",
    "            batch_de_ids = batch['de_ids']\n",
    "            batch_en_ids = batch_en_ids.to(device=device)\n",
    "            batch_de_ids = batch_de_ids.to(device=device)\n",
    "\n",
    "            optimizer.zero_grad()\n",
    "\n",
    "            logits = model(batch_en_ids, batch_de_ids)\n",
    "            loss_t = loss(logits, one_hot(batch_de_ids.permute(1, 0)[:, 1:],\n",
    "                                          num_classes=emoji_vocab_size).to(torch.float))\n",
    "            loss_t.backward()\n",
    "            optimizer.step()\n",
    "\n",
    "            train_loss += loss_t.item()\n",
    "            if i % print_step == 0 and i != 0:\n",
    "                model.eval()\n",
    "\n",
    "                # evaluate\n",
    "                mean_train_loss = train_loss / print_step\n",
    "                train_loss = 0\n",
    "                mean_test_loss = evaluate_loss_test(model, test_data_loader, loss, emoji_vocab_size, device)\n",
    "                logger.info(f'step: {i}/{len(train_data_loader)}, '\n",
    "                            f'train_loss: {mean_train_loss}, '\n",
    "                            f'test_loss: {mean_test_loss}')\n",
    "                history['train_loss'].append(mean_train_loss)\n",
    "                history['test_loss'].append(mean_test_loss)\n",
    "\n",
    "                # save state\n",
    "                torch.save({\n",
    "                    'epoch': epoch,\n",
    "                    'history': history,\n",
    "                    'model': model.state_dict(),\n",
    "                    'optim': optimizer.state_dict(),\n",
    "                    'scheduler': scheduler.state_dict(),\n",
    "                    'batch_size': batch_size,\n",
    "                    'loss': loss\n",
    "                }, f'{path_save}/checkpoint_{date.today()}.pth')\n",
    "\n",
    "                # callbacks\n",
    "                if len(history['test_loss']) > 1 and history['test_loss'][-2] < history['test_loss'][-1]:\n",
    "                    test_learn_curve_increases += 1\n",
    "                else:\n",
    "                    test_learn_curve_increases = 0\n",
    "\n",
    "                if test_learn_curve_increases > 5:\n",
    "                    return history\n",
    "\n",
    "        # calculate bleu\n",
    "        results = evaluate_bleu(model, dataset, device)\n",
    "        logger.info(f'bleu: {results}')\n",
    "\n",
    "        scheduler.step()\n",
    "    model.eval()\n",
    "    model.to('cpu')\n",
    "\n",
    "    return history"
   ]
  },
  {
   "cell_type": "markdown",
   "id": "ea10cfb4-9ed8-466b-9651-17b9cddff39e",
   "metadata": {},
   "source": [
    "Set logger"
   ]
  },
  {
   "cell_type": "code",
   "execution_count": 5,
   "id": "c4c82a72-6e22-4aae-8ee9-4937a9ab512d",
   "metadata": {},
   "outputs": [],
   "source": [
    "set_logger()"
   ]
  },
  {
   "cell_type": "markdown",
   "id": "1dbe4edb-fce4-4507-8ccf-250e54b5d060",
   "metadata": {},
   "source": [
    "Set paths"
   ]
  },
  {
   "cell_type": "code",
   "execution_count": 27,
   "id": "0740f30e-60d5-4db1-9825-0ea9e9b840f9",
   "metadata": {},
   "outputs": [],
   "source": [
    "path_model_config = '../configs/model.yaml'\n",
    "path_train_config = '../configs/train.yaml'\n",
    "path_processing_config = '../configs/processing.yaml'\n",
    "path_load_parser = '../data/parser'\n",
    "path_load_embbeding = '../data/transfer/embbeding'\n",
    "path_load_dataset = '../data/datasets/processed'\n",
    "path_save_checkpoint = '../data/checkpoints'\n",
    "path_save_model = '../models'"
   ]
  },
  {
   "cell_type": "markdown",
   "id": "8cde38eb-ce25-496b-8d4f-9a96295f2826",
   "metadata": {},
   "source": [
    "Set configs"
   ]
  },
  {
   "cell_type": "code",
   "execution_count": 7,
   "id": "4c11e1f4-03d2-4781-a8b4-d1f9be7a786f",
   "metadata": {},
   "outputs": [],
   "source": [
    "model_config = OmegaConf.load(path_model_config)\n",
    "train_config = OmegaConf.load(path_train_config)\n",
    "processing_config = OmegaConf.load(path_processing_config)"
   ]
  },
  {
   "cell_type": "code",
   "execution_count": 9,
   "id": "bc04d929-24e1-4801-b9d3-431d2e69a209",
   "metadata": {},
   "outputs": [],
   "source": [
    "st = processing_config.special_tokens\n",
    "pad_token, sos_token, eos_token, unk_token = st.pad.token, st.sos.token, st.eos.token, st.unk.token\n",
    "pad_idx, sos_idx, eos_idx, unk_idx = st.pad.id, st.sos.id, st.eos.id, st.unk.id"
   ]
  },
  {
   "cell_type": "markdown",
   "id": "21d15921-f374-4e89-b1f9-7af769bf16fe",
   "metadata": {},
   "source": [
    "Set seed"
   ]
  },
  {
   "cell_type": "code",
   "execution_count": 10,
   "id": "425155cd-58e0-47c3-8cb4-4d34cb8d5210",
   "metadata": {},
   "outputs": [],
   "source": [
    "seed_all(train_config.seed)"
   ]
  },
  {
   "cell_type": "markdown",
   "id": "964e144b-832b-41a2-a5bf-cc28a7c66962",
   "metadata": {},
   "source": [
    "Load data"
   ]
  },
  {
   "cell_type": "code",
   "execution_count": 23,
   "id": "217a6a63-822a-4d46-b420-5ae2ff3f8451",
   "metadata": {},
   "outputs": [
    {
     "name": "stdout",
     "output_type": "stream",
     "text": [
      "2024-11-02 17:49:44 | INFO | Dataset load\n"
     ]
    }
   ],
   "source": [
    "logger.info(f'Dataset load')\n",
    "dataset = load_from_disk(path_load_dataset)"
   ]
  },
  {
   "cell_type": "code",
   "execution_count": 24,
   "id": "8ea15003-1f91-463d-9f43-77bacc528b78",
   "metadata": {},
   "outputs": [],
   "source": [
    "dataset = Text2EmojiDataset(dataset)\n",
    "dataset.train_test_split(processing_config.data.train_test_ratio)"
   ]
  },
  {
   "cell_type": "code",
   "execution_count": 14,
   "id": "702e2578-e726-4f95-b99e-a96abbbe07d2",
   "metadata": {},
   "outputs": [],
   "source": [
    "parser = Text2EmojiParser(pad_token, sos_token, eos_token, unk_token)\n",
    "parser.load(path_load_parser + '/parser.pt')"
   ]
  },
  {
   "cell_type": "code",
   "execution_count": 15,
   "id": "f75791d2-c9a4-4678-b0a7-c46eca53cfe1",
   "metadata": {},
   "outputs": [],
   "source": [
    "embbedings = torch.load(path_load_embbeding + '/embbeding.pt')\n",
    "embbeding_size = embbedings.shape[1]"
   ]
  },
  {
   "cell_type": "code",
   "execution_count": 16,
   "id": "737c2720-9486-4fe6-8b7c-8547eec89aa7",
   "metadata": {},
   "outputs": [
    {
     "name": "stdout",
     "output_type": "stream",
     "text": [
      "2024-11-02 17:46:12 | INFO | Model creating\n"
     ]
    }
   ],
   "source": [
    "logger.info('Model creating')\n",
    "model = Text2Emoji(parser.text_vocab_size(), parser.emoji_vocab_size(),\n",
    "                    sos_idx, eos_idx, pad_idx, embbeding_size,\n",
    "                   model_config.model_architecture.hidden_size,\n",
    "                   model_config.model_architecture.num_layers,\n",
    "                   model_config.model_architecture.dropout,\n",
    "                   model_config.model_architecture.sup_unsup_ratio)\n",
    "model.init_en_emb(embbedings)"
   ]
  },
  {
   "cell_type": "code",
   "execution_count": 17,
   "id": "851a91d4-2e7e-40b8-9351-e8f49d655a1a",
   "metadata": {},
   "outputs": [
    {
     "name": "stdout",
     "output_type": "stream",
     "text": [
      "enc.emb.weight \t torch.Size([11526, 100])\n",
      "enc.enc0.weight_ih_l0 \t torch.Size([1050, 100])\n",
      "enc.enc0.weight_hh_l0 \t torch.Size([1050, 350])\n",
      "enc.enc0.bias_ih_l0 \t torch.Size([1050])\n",
      "enc.enc0.bias_hh_l0 \t torch.Size([1050])\n",
      "enc.enc0.weight_ih_l0_reverse \t torch.Size([1050, 100])\n",
      "enc.enc0.weight_hh_l0_reverse \t torch.Size([1050, 350])\n",
      "enc.enc0.bias_ih_l0_reverse \t torch.Size([1050])\n",
      "enc.enc0.bias_hh_l0_reverse \t torch.Size([1050])\n",
      "enc.enc0.weight_ih_l1 \t torch.Size([1050, 700])\n",
      "enc.enc0.weight_hh_l1 \t torch.Size([1050, 350])\n",
      "enc.enc0.bias_ih_l1 \t torch.Size([1050])\n",
      "enc.enc0.bias_hh_l1 \t torch.Size([1050])\n",
      "enc.enc0.weight_ih_l1_reverse \t torch.Size([1050, 700])\n",
      "enc.enc0.weight_hh_l1_reverse \t torch.Size([1050, 350])\n",
      "enc.enc0.bias_ih_l1_reverse \t torch.Size([1050])\n",
      "enc.enc0.bias_hh_l1_reverse \t torch.Size([1050])\n",
      "enc.hid_lin.weight \t torch.Size([350, 700])\n",
      "enc.hid_lin.bias \t torch.Size([350])\n",
      "dec.emb.weight \t torch.Size([1330, 100])\n",
      "dec.dec0.weight_ih \t torch.Size([1050, 100])\n",
      "dec.dec0.weight_hh \t torch.Size([1050, 350])\n",
      "dec.dec0.bias_ih \t torch.Size([1050])\n",
      "dec.dec0.bias_hh \t torch.Size([1050])\n",
      "dec.linear0.weight \t torch.Size([1330, 350])\n",
      "dec.linear0.bias \t torch.Size([1330])\n",
      "attention.linear0.weight \t torch.Size([350, 700])\n",
      "attention.linear0.bias \t torch.Size([350])\n",
      "attention.linear1.weight \t torch.Size([1, 350])\n",
      "attention.linear1.bias \t torch.Size([1])\n",
      "model params: 5876481\n",
      "model size: 22.417MB\n"
     ]
    }
   ],
   "source": [
    "print_model(model)"
   ]
  },
  {
   "cell_type": "markdown",
   "id": "ad3cf144-9e4f-452c-8792-f2db8d893d41",
   "metadata": {},
   "source": [
    "Train model"
   ]
  },
  {
   "cell_type": "code",
   "execution_count": 18,
   "id": "68d228bb-d0b1-4bff-b7a1-7835f827a6dc",
   "metadata": {},
   "outputs": [],
   "source": [
    "def signal_capture(sig, frame):\n",
    "    torch.save(model.state_dict(), f'{path_save_model}/SIGINT_model_weights_{date.today()}.pth')\n",
    "    sys.exit(0)"
   ]
  },
  {
   "cell_type": "code",
   "execution_count": 19,
   "id": "c7ca77dd-a7bb-41cd-adb4-faedbd5611a1",
   "metadata": {},
   "outputs": [
    {
     "data": {
      "text/plain": [
       "<function _signal.default_int_handler(signalnum, frame, /)>"
      ]
     },
     "execution_count": 19,
     "metadata": {},
     "output_type": "execute_result"
    }
   ],
   "source": [
    "signal.signal(signal.SIGINT, signal_capture)"
   ]
  },
  {
   "cell_type": "code",
   "execution_count": 29,
   "id": "f4bd093d-4160-4035-8eda-7685806d46d7",
   "metadata": {},
   "outputs": [
    {
     "name": "stdout",
     "output_type": "stream",
     "text": [
      "2024-11-02 17:56:05 | INFO | Model training\n",
      "2024-11-02 17:56:05 | INFO | epoch: 1/8, lr: [0.001], batch_size: 32\n"
     ]
    },
    {
     "name": "stderr",
     "output_type": "stream",
     "text": [
      "100it [01:05,  1.63it/s]"
     ]
    },
    {
     "name": "stdout",
     "output_type": "stream",
     "text": [
      "2024-11-02 17:57:36 | INFO | step: 100/15630, train_loss: 0.03108152646571398, test_loss: 0.031199057510978467\n"
     ]
    },
    {
     "name": "stderr",
     "output_type": "stream",
     "text": [
      "100it [01:30,  1.10it/s]\n"
     ]
    },
    {
     "ename": "FileNotFoundError",
     "evalue": "[Errno 2] No such file or directory: './data/learning_curves/curve_2024-11-02.png'",
     "output_type": "error",
     "traceback": [
      "\u001b[1;31m---------------------------------------------------------------------------\u001b[0m",
      "\u001b[1;31mFileNotFoundError\u001b[0m                         Traceback (most recent call last)",
      "Cell \u001b[1;32mIn[29], line 2\u001b[0m\n\u001b[0;32m      1\u001b[0m logger\u001b[38;5;241m.\u001b[39minfo(\u001b[38;5;124m'\u001b[39m\u001b[38;5;124mModel training\u001b[39m\u001b[38;5;124m'\u001b[39m)\n\u001b[1;32m----> 2\u001b[0m train_history \u001b[38;5;241m=\u001b[39m \u001b[43mtrain_model\u001b[49m\u001b[43m(\u001b[49m\u001b[43mmodel\u001b[49m\u001b[43m,\u001b[49m\u001b[43m \u001b[49m\u001b[43mdataset\u001b[49m\u001b[43m,\u001b[49m\n\u001b[0;32m      3\u001b[0m \u001b[43m                            \u001b[49m\u001b[43mtrain_config\u001b[49m\u001b[38;5;241;43m.\u001b[39;49m\u001b[43mtrain_process\u001b[49m\u001b[38;5;241;43m.\u001b[39;49m\u001b[43mepoch\u001b[49m\u001b[43m,\u001b[49m\n\u001b[0;32m      4\u001b[0m \u001b[43m                            \u001b[49m\u001b[43mtrain_config\u001b[49m\u001b[38;5;241;43m.\u001b[39;49m\u001b[43mtrain_process\u001b[49m\u001b[38;5;241;43m.\u001b[39;49m\u001b[43mprint_step\u001b[49m\u001b[43m,\u001b[49m\n\u001b[0;32m      5\u001b[0m \u001b[43m                            \u001b[49m\u001b[43mparser\u001b[49m\u001b[38;5;241;43m.\u001b[39;49m\u001b[43memoji_vocab_size\u001b[49m\u001b[43m(\u001b[49m\u001b[43m)\u001b[49m\u001b[43m,\u001b[49m\u001b[43m \u001b[49m\u001b[43mpad_idx\u001b[49m\u001b[43m,\u001b[49m\n\u001b[0;32m      6\u001b[0m \u001b[43m                            \u001b[49m\u001b[43mpath_save_checkpoint\u001b[49m\u001b[43m)\u001b[49m\n\u001b[0;32m      8\u001b[0m torch\u001b[38;5;241m.\u001b[39msave(model\u001b[38;5;241m.\u001b[39mstate_dict(), \u001b[38;5;124mf\u001b[39m\u001b[38;5;124m'\u001b[39m\u001b[38;5;132;01m{\u001b[39;00mpath_save_model\u001b[38;5;132;01m}\u001b[39;00m\u001b[38;5;124m/trained_model_weights_\u001b[39m\u001b[38;5;132;01m{\u001b[39;00mdate\u001b[38;5;241m.\u001b[39mtoday()\u001b[38;5;132;01m}\u001b[39;00m\u001b[38;5;124m.pth\u001b[39m\u001b[38;5;124m'\u001b[39m)\n",
      "Cell \u001b[1;32mIn[28], line 74\u001b[0m, in \u001b[0;36mtrain_model\u001b[1;34m(model, dataset, n_epoch, print_step, emoji_vocab_size, pad_idx, path_save)\u001b[0m\n\u001b[0;32m     63\u001b[0m torch\u001b[38;5;241m.\u001b[39msave({\n\u001b[0;32m     64\u001b[0m     \u001b[38;5;124m'\u001b[39m\u001b[38;5;124mepoch\u001b[39m\u001b[38;5;124m'\u001b[39m: epoch,\n\u001b[0;32m     65\u001b[0m     \u001b[38;5;124m'\u001b[39m\u001b[38;5;124mhistory\u001b[39m\u001b[38;5;124m'\u001b[39m: history,\n\u001b[1;32m   (...)\u001b[0m\n\u001b[0;32m     70\u001b[0m     \u001b[38;5;124m'\u001b[39m\u001b[38;5;124mloss\u001b[39m\u001b[38;5;124m'\u001b[39m: loss\n\u001b[0;32m     71\u001b[0m }, \u001b[38;5;124mf\u001b[39m\u001b[38;5;124m'\u001b[39m\u001b[38;5;132;01m{\u001b[39;00mpath_save\u001b[38;5;132;01m}\u001b[39;00m\u001b[38;5;124m/checkpoint_\u001b[39m\u001b[38;5;132;01m{\u001b[39;00mdate\u001b[38;5;241m.\u001b[39mtoday()\u001b[38;5;132;01m}\u001b[39;00m\u001b[38;5;124m.pth\u001b[39m\u001b[38;5;124m'\u001b[39m)\n\u001b[0;32m     73\u001b[0m \u001b[38;5;66;03m# plot learning curve\u001b[39;00m\n\u001b[1;32m---> 74\u001b[0m \u001b[43mprint_learn_curve\u001b[49m\u001b[43m(\u001b[49m\u001b[43mhistory\u001b[49m\u001b[43m)\u001b[49m\n\u001b[0;32m     76\u001b[0m \u001b[38;5;66;03m# callbacks\u001b[39;00m\n\u001b[0;32m     77\u001b[0m \u001b[38;5;28;01mif\u001b[39;00m \u001b[38;5;28mlen\u001b[39m(history[\u001b[38;5;124m'\u001b[39m\u001b[38;5;124mtest_loss\u001b[39m\u001b[38;5;124m'\u001b[39m]) \u001b[38;5;241m>\u001b[39m \u001b[38;5;241m1\u001b[39m \u001b[38;5;129;01mand\u001b[39;00m history[\u001b[38;5;124m'\u001b[39m\u001b[38;5;124mtest_loss\u001b[39m\u001b[38;5;124m'\u001b[39m][\u001b[38;5;241m-\u001b[39m\u001b[38;5;241m2\u001b[39m] \u001b[38;5;241m<\u001b[39m history[\u001b[38;5;124m'\u001b[39m\u001b[38;5;124mtest_loss\u001b[39m\u001b[38;5;124m'\u001b[39m][\u001b[38;5;241m-\u001b[39m\u001b[38;5;241m1\u001b[39m]:\n",
      "File \u001b[1;32m~\\Projects\\github\\Text2Emoji\\src\\utils\\train.py:70\u001b[0m, in \u001b[0;36mprint_learn_curve\u001b[1;34m(history)\u001b[0m\n\u001b[0;32m     68\u001b[0m     plt\u001b[38;5;241m.\u001b[39mplot(\u001b[38;5;28mrange\u001b[39m(\u001b[38;5;28mlen\u001b[39m(h)), h)\n\u001b[0;32m     69\u001b[0m     plt\u001b[38;5;241m.\u001b[39mgrid()\n\u001b[1;32m---> 70\u001b[0m \u001b[43mplt\u001b[49m\u001b[38;5;241;43m.\u001b[39;49m\u001b[43msavefig\u001b[49m\u001b[43m(\u001b[49m\u001b[38;5;124;43mf\u001b[39;49m\u001b[38;5;124;43m'\u001b[39;49m\u001b[38;5;124;43m./data/learning_curves/curve_\u001b[39;49m\u001b[38;5;132;43;01m{\u001b[39;49;00m\u001b[43mdate\u001b[49m\u001b[38;5;241;43m.\u001b[39;49m\u001b[43mtoday\u001b[49m\u001b[43m(\u001b[49m\u001b[43m)\u001b[49m\u001b[38;5;132;43;01m}\u001b[39;49;00m\u001b[38;5;124;43m'\u001b[39;49m\u001b[43m)\u001b[49m\n",
      "File \u001b[1;32m~\\AppData\\Local\\Programs\\Python\\Python310\\lib\\site-packages\\matplotlib\\pyplot.py:977\u001b[0m, in \u001b[0;36msavefig\u001b[1;34m(*args, **kwargs)\u001b[0m\n\u001b[0;32m    974\u001b[0m \u001b[38;5;129m@_copy_docstring_and_deprecators\u001b[39m(Figure\u001b[38;5;241m.\u001b[39msavefig)\n\u001b[0;32m    975\u001b[0m \u001b[38;5;28;01mdef\u001b[39;00m \u001b[38;5;21msavefig\u001b[39m(\u001b[38;5;241m*\u001b[39margs, \u001b[38;5;241m*\u001b[39m\u001b[38;5;241m*\u001b[39mkwargs):\n\u001b[0;32m    976\u001b[0m     fig \u001b[38;5;241m=\u001b[39m gcf()\n\u001b[1;32m--> 977\u001b[0m     res \u001b[38;5;241m=\u001b[39m fig\u001b[38;5;241m.\u001b[39msavefig(\u001b[38;5;241m*\u001b[39margs, \u001b[38;5;241m*\u001b[39m\u001b[38;5;241m*\u001b[39mkwargs)\n\u001b[0;32m    978\u001b[0m     fig\u001b[38;5;241m.\u001b[39mcanvas\u001b[38;5;241m.\u001b[39mdraw_idle()   \u001b[38;5;66;03m# need this if 'transparent=True' to reset colors\u001b[39;00m\n\u001b[0;32m    979\u001b[0m     \u001b[38;5;28;01mreturn\u001b[39;00m res\n",
      "File \u001b[1;32m~\\AppData\\Local\\Programs\\Python\\Python310\\lib\\site-packages\\matplotlib\\figure.py:3058\u001b[0m, in \u001b[0;36mFigure.savefig\u001b[1;34m(self, fname, transparent, **kwargs)\u001b[0m\n\u001b[0;32m   3054\u001b[0m     \u001b[38;5;28;01mfor\u001b[39;00m ax \u001b[38;5;129;01min\u001b[39;00m \u001b[38;5;28mself\u001b[39m\u001b[38;5;241m.\u001b[39maxes:\n\u001b[0;32m   3055\u001b[0m         stack\u001b[38;5;241m.\u001b[39menter_context(\n\u001b[0;32m   3056\u001b[0m             ax\u001b[38;5;241m.\u001b[39mpatch\u001b[38;5;241m.\u001b[39m_cm_set(facecolor\u001b[38;5;241m=\u001b[39m\u001b[38;5;124m'\u001b[39m\u001b[38;5;124mnone\u001b[39m\u001b[38;5;124m'\u001b[39m, edgecolor\u001b[38;5;241m=\u001b[39m\u001b[38;5;124m'\u001b[39m\u001b[38;5;124mnone\u001b[39m\u001b[38;5;124m'\u001b[39m))\n\u001b[1;32m-> 3058\u001b[0m \u001b[38;5;28mself\u001b[39m\u001b[38;5;241m.\u001b[39mcanvas\u001b[38;5;241m.\u001b[39mprint_figure(fname, \u001b[38;5;241m*\u001b[39m\u001b[38;5;241m*\u001b[39mkwargs)\n",
      "File \u001b[1;32m~\\AppData\\Local\\Programs\\Python\\Python310\\lib\\site-packages\\matplotlib\\backend_bases.py:2319\u001b[0m, in \u001b[0;36mFigureCanvasBase.print_figure\u001b[1;34m(self, filename, dpi, facecolor, edgecolor, orientation, format, bbox_inches, pad_inches, bbox_extra_artists, backend, **kwargs)\u001b[0m\n\u001b[0;32m   2315\u001b[0m \u001b[38;5;28;01mtry\u001b[39;00m:\n\u001b[0;32m   2316\u001b[0m     \u001b[38;5;66;03m# _get_renderer may change the figure dpi (as vector formats\u001b[39;00m\n\u001b[0;32m   2317\u001b[0m     \u001b[38;5;66;03m# force the figure dpi to 72), so we need to set it again here.\u001b[39;00m\n\u001b[0;32m   2318\u001b[0m     \u001b[38;5;28;01mwith\u001b[39;00m cbook\u001b[38;5;241m.\u001b[39m_setattr_cm(\u001b[38;5;28mself\u001b[39m\u001b[38;5;241m.\u001b[39mfigure, dpi\u001b[38;5;241m=\u001b[39mdpi):\n\u001b[1;32m-> 2319\u001b[0m         result \u001b[38;5;241m=\u001b[39m print_method(\n\u001b[0;32m   2320\u001b[0m             filename,\n\u001b[0;32m   2321\u001b[0m             facecolor\u001b[38;5;241m=\u001b[39mfacecolor,\n\u001b[0;32m   2322\u001b[0m             edgecolor\u001b[38;5;241m=\u001b[39medgecolor,\n\u001b[0;32m   2323\u001b[0m             orientation\u001b[38;5;241m=\u001b[39morientation,\n\u001b[0;32m   2324\u001b[0m             bbox_inches_restore\u001b[38;5;241m=\u001b[39m_bbox_inches_restore,\n\u001b[0;32m   2325\u001b[0m             \u001b[38;5;241m*\u001b[39m\u001b[38;5;241m*\u001b[39mkwargs)\n\u001b[0;32m   2326\u001b[0m \u001b[38;5;28;01mfinally\u001b[39;00m:\n\u001b[0;32m   2327\u001b[0m     \u001b[38;5;28;01mif\u001b[39;00m bbox_inches \u001b[38;5;129;01mand\u001b[39;00m restore_bbox:\n",
      "File \u001b[1;32m~\\AppData\\Local\\Programs\\Python\\Python310\\lib\\site-packages\\matplotlib\\backend_bases.py:1648\u001b[0m, in \u001b[0;36m_check_savefig_extra_args.<locals>.wrapper\u001b[1;34m(*args, **kwargs)\u001b[0m\n\u001b[0;32m   1640\u001b[0m     _api\u001b[38;5;241m.\u001b[39mwarn_deprecated(\n\u001b[0;32m   1641\u001b[0m         \u001b[38;5;124m'\u001b[39m\u001b[38;5;124m3.3\u001b[39m\u001b[38;5;124m'\u001b[39m, name\u001b[38;5;241m=\u001b[39mname, removal\u001b[38;5;241m=\u001b[39m\u001b[38;5;124m'\u001b[39m\u001b[38;5;124m3.6\u001b[39m\u001b[38;5;124m'\u001b[39m,\n\u001b[0;32m   1642\u001b[0m         message\u001b[38;5;241m=\u001b[39m\u001b[38;5;124m'\u001b[39m\u001b[38;5;132;01m%(name)s\u001b[39;00m\u001b[38;5;124m() got unexpected keyword argument \u001b[39m\u001b[38;5;124m\"\u001b[39m\u001b[38;5;124m'\u001b[39m\n\u001b[0;32m   1643\u001b[0m                 \u001b[38;5;241m+\u001b[39m arg \u001b[38;5;241m+\u001b[39m \u001b[38;5;124m'\u001b[39m\u001b[38;5;124m\"\u001b[39m\u001b[38;5;124m which is no longer supported as of \u001b[39m\u001b[38;5;124m'\u001b[39m\n\u001b[0;32m   1644\u001b[0m                 \u001b[38;5;124m'\u001b[39m\u001b[38;5;132;01m%(since)s\u001b[39;00m\u001b[38;5;124m and will become an error \u001b[39m\u001b[38;5;124m'\u001b[39m\n\u001b[0;32m   1645\u001b[0m                 \u001b[38;5;124m'\u001b[39m\u001b[38;5;132;01m%(removal)s\u001b[39;00m\u001b[38;5;124m'\u001b[39m)\n\u001b[0;32m   1646\u001b[0m     kwargs\u001b[38;5;241m.\u001b[39mpop(arg)\n\u001b[1;32m-> 1648\u001b[0m \u001b[38;5;28;01mreturn\u001b[39;00m func(\u001b[38;5;241m*\u001b[39margs, \u001b[38;5;241m*\u001b[39m\u001b[38;5;241m*\u001b[39mkwargs)\n",
      "File \u001b[1;32m~\\AppData\\Local\\Programs\\Python\\Python310\\lib\\site-packages\\matplotlib\\_api\\deprecation.py:415\u001b[0m, in \u001b[0;36mdelete_parameter.<locals>.wrapper\u001b[1;34m(*inner_args, **inner_kwargs)\u001b[0m\n\u001b[0;32m    405\u001b[0m     deprecation_addendum \u001b[38;5;241m=\u001b[39m (\n\u001b[0;32m    406\u001b[0m         \u001b[38;5;124mf\u001b[39m\u001b[38;5;124m\"\u001b[39m\u001b[38;5;124mIf any parameter follows \u001b[39m\u001b[38;5;132;01m{\u001b[39;00mname\u001b[38;5;132;01m!r}\u001b[39;00m\u001b[38;5;124m, they should be passed as \u001b[39m\u001b[38;5;124m\"\u001b[39m\n\u001b[0;32m    407\u001b[0m         \u001b[38;5;124mf\u001b[39m\u001b[38;5;124m\"\u001b[39m\u001b[38;5;124mkeyword, not positionally.\u001b[39m\u001b[38;5;124m\"\u001b[39m)\n\u001b[0;32m    408\u001b[0m     warn_deprecated(\n\u001b[0;32m    409\u001b[0m         since,\n\u001b[0;32m    410\u001b[0m         name\u001b[38;5;241m=\u001b[39m\u001b[38;5;28mrepr\u001b[39m(name),\n\u001b[1;32m   (...)\u001b[0m\n\u001b[0;32m    413\u001b[0m                  \u001b[38;5;28;01melse\u001b[39;00m deprecation_addendum,\n\u001b[0;32m    414\u001b[0m         \u001b[38;5;241m*\u001b[39m\u001b[38;5;241m*\u001b[39mkwargs)\n\u001b[1;32m--> 415\u001b[0m \u001b[38;5;28;01mreturn\u001b[39;00m func(\u001b[38;5;241m*\u001b[39minner_args, \u001b[38;5;241m*\u001b[39m\u001b[38;5;241m*\u001b[39minner_kwargs)\n",
      "File \u001b[1;32m~\\AppData\\Local\\Programs\\Python\\Python310\\lib\\site-packages\\matplotlib\\backends\\backend_agg.py:541\u001b[0m, in \u001b[0;36mFigureCanvasAgg.print_png\u001b[1;34m(self, filename_or_obj, metadata, pil_kwargs, *args)\u001b[0m\n\u001b[0;32m    494\u001b[0m \u001b[38;5;250m\u001b[39m\u001b[38;5;124;03m\"\"\"\u001b[39;00m\n\u001b[0;32m    495\u001b[0m \u001b[38;5;124;03mWrite the figure to a PNG file.\u001b[39;00m\n\u001b[0;32m    496\u001b[0m \n\u001b[1;32m   (...)\u001b[0m\n\u001b[0;32m    538\u001b[0m \u001b[38;5;124;03m    *metadata*, including the default 'Software' key.\u001b[39;00m\n\u001b[0;32m    539\u001b[0m \u001b[38;5;124;03m\"\"\"\u001b[39;00m\n\u001b[0;32m    540\u001b[0m FigureCanvasAgg\u001b[38;5;241m.\u001b[39mdraw(\u001b[38;5;28mself\u001b[39m)\n\u001b[1;32m--> 541\u001b[0m \u001b[43mmpl\u001b[49m\u001b[38;5;241;43m.\u001b[39;49m\u001b[43mimage\u001b[49m\u001b[38;5;241;43m.\u001b[39;49m\u001b[43mimsave\u001b[49m\u001b[43m(\u001b[49m\n\u001b[0;32m    542\u001b[0m \u001b[43m    \u001b[49m\u001b[43mfilename_or_obj\u001b[49m\u001b[43m,\u001b[49m\u001b[43m \u001b[49m\u001b[38;5;28;43mself\u001b[39;49m\u001b[38;5;241;43m.\u001b[39;49m\u001b[43mbuffer_rgba\u001b[49m\u001b[43m(\u001b[49m\u001b[43m)\u001b[49m\u001b[43m,\u001b[49m\u001b[43m \u001b[49m\u001b[38;5;28;43mformat\u001b[39;49m\u001b[38;5;241;43m=\u001b[39;49m\u001b[38;5;124;43m\"\u001b[39;49m\u001b[38;5;124;43mpng\u001b[39;49m\u001b[38;5;124;43m\"\u001b[39;49m\u001b[43m,\u001b[49m\u001b[43m \u001b[49m\u001b[43morigin\u001b[49m\u001b[38;5;241;43m=\u001b[39;49m\u001b[38;5;124;43m\"\u001b[39;49m\u001b[38;5;124;43mupper\u001b[39;49m\u001b[38;5;124;43m\"\u001b[39;49m\u001b[43m,\u001b[49m\n\u001b[0;32m    543\u001b[0m \u001b[43m    \u001b[49m\u001b[43mdpi\u001b[49m\u001b[38;5;241;43m=\u001b[39;49m\u001b[38;5;28;43mself\u001b[39;49m\u001b[38;5;241;43m.\u001b[39;49m\u001b[43mfigure\u001b[49m\u001b[38;5;241;43m.\u001b[39;49m\u001b[43mdpi\u001b[49m\u001b[43m,\u001b[49m\u001b[43m \u001b[49m\u001b[43mmetadata\u001b[49m\u001b[38;5;241;43m=\u001b[39;49m\u001b[43mmetadata\u001b[49m\u001b[43m,\u001b[49m\u001b[43m \u001b[49m\u001b[43mpil_kwargs\u001b[49m\u001b[38;5;241;43m=\u001b[39;49m\u001b[43mpil_kwargs\u001b[49m\u001b[43m)\u001b[49m\n",
      "File \u001b[1;32m~\\AppData\\Local\\Programs\\Python\\Python310\\lib\\site-packages\\matplotlib\\image.py:1675\u001b[0m, in \u001b[0;36mimsave\u001b[1;34m(fname, arr, vmin, vmax, cmap, format, origin, dpi, metadata, pil_kwargs)\u001b[0m\n\u001b[0;32m   1673\u001b[0m pil_kwargs\u001b[38;5;241m.\u001b[39msetdefault(\u001b[38;5;124m\"\u001b[39m\u001b[38;5;124mformat\u001b[39m\u001b[38;5;124m\"\u001b[39m, \u001b[38;5;28mformat\u001b[39m)\n\u001b[0;32m   1674\u001b[0m pil_kwargs\u001b[38;5;241m.\u001b[39msetdefault(\u001b[38;5;124m\"\u001b[39m\u001b[38;5;124mdpi\u001b[39m\u001b[38;5;124m\"\u001b[39m, (dpi, dpi))\n\u001b[1;32m-> 1675\u001b[0m image\u001b[38;5;241m.\u001b[39msave(fname, \u001b[38;5;241m*\u001b[39m\u001b[38;5;241m*\u001b[39mpil_kwargs)\n",
      "File \u001b[1;32m~\\AppData\\Local\\Programs\\Python\\Python310\\lib\\site-packages\\PIL\\Image.py:2317\u001b[0m, in \u001b[0;36mImage.save\u001b[1;34m(self, fp, format, **params)\u001b[0m\n\u001b[0;32m   2315\u001b[0m         fp \u001b[38;5;241m=\u001b[39m builtins\u001b[38;5;241m.\u001b[39mopen(filename, \u001b[38;5;124m\"\u001b[39m\u001b[38;5;124mr+b\u001b[39m\u001b[38;5;124m\"\u001b[39m)\n\u001b[0;32m   2316\u001b[0m     \u001b[38;5;28;01melse\u001b[39;00m:\n\u001b[1;32m-> 2317\u001b[0m         fp \u001b[38;5;241m=\u001b[39m \u001b[43mbuiltins\u001b[49m\u001b[38;5;241;43m.\u001b[39;49m\u001b[43mopen\u001b[49m\u001b[43m(\u001b[49m\u001b[43mfilename\u001b[49m\u001b[43m,\u001b[49m\u001b[43m \u001b[49m\u001b[38;5;124;43m\"\u001b[39;49m\u001b[38;5;124;43mw+b\u001b[39;49m\u001b[38;5;124;43m\"\u001b[39;49m\u001b[43m)\u001b[49m\n\u001b[0;32m   2319\u001b[0m \u001b[38;5;28;01mtry\u001b[39;00m:\n\u001b[0;32m   2320\u001b[0m     save_handler(\u001b[38;5;28mself\u001b[39m, fp, filename)\n",
      "\u001b[1;31mFileNotFoundError\u001b[0m: [Errno 2] No such file or directory: './data/learning_curves/curve_2024-11-02.png'"
     ]
    },
    {
     "data": {
      "image/png": "[encoded data removed]",
      "text/plain": [
       "<Figure size 1200x400 with 2 Axes>"
      ]
     },
     "metadata": {},
     "output_type": "display_data"
    }
   ],
   "source": [
    "logger.info('Model training')\n",
    "train_history = train_model(model, dataset,\n",
    "                            train_config.train_process.epoch,\n",
    "                            train_config.train_process.print_step,\n",
    "                            parser.emoji_vocab_size(), pad_idx,\n",
    "                            path_save_checkpoint)\n",
    "\n",
    "torch.save(model.state_dict(), f'{path_save_model}/trained_model_weights_{date.today()}.pth')"
   ]
  },
  {
   "cell_type": "code",
   "execution_count": null,
   "id": "2582b937-03ac-4d88-9470-3889e59430f9",
   "metadata": {},
   "outputs": [],
   "source": []
  }
 ],
 "metadata": {
  "kernelspec": {
   "display_name": "Python 3 (ipykernel)",
   "language": "python",
   "name": "python3"
  },
  "language_info": {
   "codemirror_mode": {
    "name": "ipython",
    "version": 3
   },
   "file_extension": ".py",
   "mimetype": "text/x-python",
   "name": "python",
   "nbconvert_exporter": "python",
   "pygments_lexer": "ipython3",
   "version": "3.10.1"
  }
 },
 "nbformat": 4,
 "nbformat_minor": 5
}
