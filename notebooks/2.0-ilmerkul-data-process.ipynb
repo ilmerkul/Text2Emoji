{
 "cells": [
  {
   "cell_type": "markdown",
   "id": "9382ac77-1094-45e8-9965-1b306001ac39",
   "metadata": {},
   "source": [
    "## Data processing"
   ]
  },
  {
   "cell_type": "markdown",
   "id": "dc68542d-ccc2-4695-8b8a-f14490a5d477",
   "metadata": {},
   "source": [
    "Dependency import"
   ]
  },
  {
   "cell_type": "code",
   "execution_count": 36,
   "id": "d20cc028-8cf7-4f05-a4a7-ed2887da7503",
   "metadata": {},
   "outputs": [],
   "source": [
    "import os\n",
    "import sys"
   ]
  },
  {
   "cell_type": "markdown",
   "id": "23480e9d-aad6-4c18-ac28-09a76867bfe0",
   "metadata": {},
   "source": [
    "Add path of project modules to visible area"
   ]
  },
  {
   "cell_type": "code",
   "execution_count": 37,
   "id": "6ecb6357-c33a-49e1-8f3c-64682c823011",
   "metadata": {},
   "outputs": [],
   "source": [
    "nb_dir = os.path.split(os.getcwd())[0]\n",
    "if nb_dir not in sys.path:\n",
    "    sys.path.append(nb_dir)"
   ]
  },
  {
   "cell_type": "code",
   "execution_count": 38,
   "id": "0006ba7d-b11b-4196-9378-a46891cf51e9",
   "metadata": {},
   "outputs": [],
   "source": [
    "from datasets import load_from_disk\n",
    "from torch import save\n",
    "\n",
    "from omegaconf import OmegaConf\n",
    "from loguru import logger\n",
    "\n",
    "from src.parser import Text2EmojiParser\n",
    "from src.dataset import Text2EmojiDataset\n",
    "from src.utils import seed_all, set_logger\n",
    "from src.transfer import get_glove_embbedings"
   ]
  },
  {
   "cell_type": "markdown",
   "id": "4e02d8b9-af93-49e5-a350-cd23694be553",
   "metadata": {},
   "source": [
    "Set logger"
   ]
  },
  {
   "cell_type": "code",
   "execution_count": 39,
   "id": "50ca50f3-b2ee-4697-9622-0bbb713def56",
   "metadata": {},
   "outputs": [],
   "source": [
    "set_logger()"
   ]
  },
  {
   "cell_type": "markdown",
   "id": "82cca241-e974-48a4-9293-9d2e7b3f0589",
   "metadata": {},
   "source": [
    "Set paths"
   ]
  },
  {
   "cell_type": "code",
   "execution_count": 54,
   "id": "b493ebcd-7578-488b-a1a9-7eb6e467839d",
   "metadata": {},
   "outputs": [],
   "source": [
    "path_experiment_config = '../configs/experiment.yaml'\n",
    "path_train_config = '../configs/train.yaml'\n",
    "path_processing_config = '../configs/processing.yaml'\n",
    "path_save_dataset = '../data/datasets/processed'\n",
    "path_save_parser = '../data/parser'\n",
    "path_save_embbeding = '../data/transfer/embbeding'"
   ]
  },
  {
   "cell_type": "markdown",
   "id": "abb1aab0-a5bc-4059-ba25-7ecdb3c6d07d",
   "metadata": {},
   "source": [
    "Set configs"
   ]
  },
  {
   "cell_type": "code",
   "execution_count": 55,
   "id": "49ab0ecf-4908-4eb8-9d97-d8e1772b5906",
   "metadata": {},
   "outputs": [],
   "source": [
    "experiment_config = OmegaConf.load(path_experiment_config)\n",
    "train_config = OmegaConf.load(path_train_config)\n",
    "processing_config = OmegaConf.load(path_processing_config)"
   ]
  },
  {
   "cell_type": "code",
   "execution_count": 42,
   "id": "0cdc409e-c65a-42f5-9d90-459755af44e1",
   "metadata": {},
   "outputs": [],
   "source": [
    "st = processing_config.special_tokens\n",
    "pad_token, sos_token, eos_token, unk_token = st.pad.token, st.sos.token, st.eos.token, st.unk.token\n",
    "pad_idx, sos_idx, eos_idx, unk_idx = st.pad.id, st.sos.id, st.eos.id, st.unk.id"
   ]
  },
  {
   "cell_type": "markdown",
   "id": "837fcd05-dfd2-4c6c-81e5-289bee60b691",
   "metadata": {},
   "source": [
    "Set seed"
   ]
  },
  {
   "cell_type": "code",
   "execution_count": 43,
   "id": "80fce233-8773-4b4a-89cd-ac6951571051",
   "metadata": {},
   "outputs": [],
   "source": [
    "seed_all(train_config.seed)"
   ]
  },
  {
   "cell_type": "markdown",
   "id": "53fb0732-fe78-4bf7-b58f-d242b943ad4a",
   "metadata": {},
   "source": [
    "Load data"
   ]
  },
  {
   "cell_type": "code",
   "execution_count": 44,
   "id": "ea7801fd-96f7-46d5-84a2-c7364845010f",
   "metadata": {},
   "outputs": [
    {
     "name": "stdout",
     "output_type": "stream",
     "text": [
      "2024-11-02 17:29:08 | INFO | Data load\n"
     ]
    }
   ],
   "source": [
    "logger.info(f'Data load')\n",
    "dataset = load_from_disk('../data/datasets/raw/KomeijiForce')"
   ]
  },
  {
   "cell_type": "markdown",
   "id": "54cf648b-1b39-45c5-b22c-25850b476f90",
   "metadata": {},
   "source": [
    "Prepare data"
   ]
  },
  {
   "cell_type": "code",
   "execution_count": 45,
   "id": "6f46f266-6274-4428-aefb-5839f5a5f4fb",
   "metadata": {},
   "outputs": [
    {
     "name": "stdout",
     "output_type": "stream",
     "text": [
      "2024-11-02 17:29:10 | INFO | Data preprocessing started with test size: 0.007\n"
     ]
    }
   ],
   "source": [
    "logger.info(f'Data preprocessing started with test size: {processing_config.data.train_test_ratio}')\n",
    "parser = Text2EmojiParser(pad_token=pad_token, sos_token=sos_token, eos_token=eos_token, unk_token=unk_token)\n",
    "dataset = Text2EmojiDataset(dataset)"
   ]
  },
  {
   "cell_type": "code",
   "execution_count": 46,
   "id": "f6f9fb37-6894-4401-9029-82f57f60b39c",
   "metadata": {},
   "outputs": [],
   "source": [
    "dataset.filter_none()\n",
    "dataset.shuffle(train_config.seed)"
   ]
  },
  {
   "cell_type": "code",
   "execution_count": 47,
   "id": "85bdfa93-177c-43e1-a399-63223727a78c",
   "metadata": {},
   "outputs": [
    {
     "name": "stdout",
     "output_type": "stream",
     "text": [
      "2024-11-02 17:29:13 | INFO | Data tokenization\n"
     ]
    }
   ],
   "source": [
    "logger.info('Data tokenization')\n",
    "dataset.tokenization_dataset(parser.tokenize_emoji, parser.tokenize_text,\n",
    "                             processing_config.data.max_text_length)"
   ]
  },
  {
   "cell_type": "markdown",
   "id": "88c3005d-d2b7-4275-99e9-b0b82c14e91c",
   "metadata": {},
   "source": [
    "Create vocab"
   ]
  },
  {
   "cell_type": "code",
   "execution_count": 48,
   "id": "3be4b912-e7bd-4825-9347-205ba217abc4",
   "metadata": {},
   "outputs": [
    {
     "name": "stdout",
     "output_type": "stream",
     "text": [
      "2024-11-02 17:29:16 | INFO | Create vocab\n"
     ]
    }
   ],
   "source": [
    "logger.info('Create vocab')\n",
    "parser.create_vocab(dataset.dataset['tokenized_emoji'],\n",
    "                    dataset.dataset['tokenized_text'],\n",
    "                    processing_config.data.min_freq_emoji,\n",
    "                    processing_config.data.min_freq_text)\n",
    "parser.set_default_index(unk_idx)"
   ]
  },
  {
   "cell_type": "code",
   "execution_count": 49,
   "id": "db889625-f2ea-45e1-aab3-c63dadbf6e8c",
   "metadata": {},
   "outputs": [
    {
     "name": "stdout",
     "output_type": "stream",
     "text": [
      "2024-11-02 17:29:35 | INFO | Data numericalize\n"
     ]
    },
    {
     "data": {
      "application/vnd.jupyter.widget-view+json": {
       "model_id": "c1e8999c8f104788a3e78ea3bf6d1fe0",
       "version_major": 2,
       "version_minor": 0
      },
      "text/plain": [
       "Map:   0%|          | 0/503682 [00:00<?, ? examples/s]"
      ]
     },
     "metadata": {},
     "output_type": "display_data"
    }
   ],
   "source": [
    "logger.info('Data numericalize')\n",
    "dataset.numericalize_dataset(parser.numericalize_data)"
   ]
  },
  {
   "cell_type": "markdown",
   "id": "364f935c-c396-47bd-8617-1c602c3a802f",
   "metadata": {},
   "source": [
    "Get embbedings"
   ]
  },
  {
   "cell_type": "code",
   "execution_count": 19,
   "id": "f7e1ebf4-b326-4b2d-8ea1-2d69d2aba5cc",
   "metadata": {},
   "outputs": [
    {
     "name": "stdout",
     "output_type": "stream",
     "text": [
      "2024-11-02 16:38:25 | INFO | Get Glove embbedings\n",
      "2024-11-02 16:38:57 | INFO | glove_word_count: 11234, size of vocab: 11525\n"
     ]
    }
   ],
   "source": [
    "logger.info('Get Glove embbedings')\n",
    "embbedings, glove_word_count = get_glove_embbedings(parser.text_vocab.get_itos()[1:])\n",
    "logger.info(f'glove_word_count: {glove_word_count}, size of vocab: {len(parser.text_vocab.get_itos()) - 1}')"
   ]
  },
  {
   "cell_type": "markdown",
   "id": "2723e368-6166-4c1b-ba14-47c6698b74e5",
   "metadata": {},
   "source": [
    "Save all on disk"
   ]
  },
  {
   "cell_type": "code",
   "execution_count": 50,
   "id": "0bff6431-06eb-4f67-917b-aa3444e35deb",
   "metadata": {},
   "outputs": [
    {
     "data": {
      "application/vnd.jupyter.widget-view+json": {
       "model_id": "5a9b83b858d64d198d331681bfcd37a8",
       "version_major": 2,
       "version_minor": 0
      },
      "text/plain": [
       "Saving the dataset (0/1 shards):   0%|          | 0/503682 [00:00<?, ? examples/s]"
      ]
     },
     "metadata": {},
     "output_type": "display_data"
    }
   ],
   "source": [
    "parser.save(path_save_parser + '/parser.pt')\n",
    "save(embbedings, path_save_embbeding + '/embbeding.pt')\n",
    "dataset.save(path_save_dataset)"
   ]
  },
  {
   "cell_type": "markdown",
   "id": "41a4dd03-c067-45f0-a2ae-ea9512800eef",
   "metadata": {},
   "source": [
    "Save on MLFlow"
   ]
  },
  {
   "cell_type": "code",
   "execution_count": 22,
   "id": "ef776533-da0a-4c34-842e-dea1e7eac58e",
   "metadata": {},
   "outputs": [],
   "source": [
    "from mlflow import MlflowClient"
   ]
  },
  {
   "cell_type": "code",
   "execution_count": 31,
   "id": "0456430f-a7de-467b-b888-a1cf37784718",
   "metadata": {},
   "outputs": [],
   "source": [
    "client = MlflowClient(tracking_uri=experiment_config.mlflow_server)"
   ]
  },
  {
   "cell_type": "code",
   "execution_count": 33,
   "id": "1612400a-33f8-4842-8c64-85c1511333c1",
   "metadata": {},
   "outputs": [],
   "source": [
    "experiment_description = (\n",
    "    \"This experiment processes simply KomeijiForce dataset for Text2Emoji model.\"\n",
    ")\n",
    "\n",
    "experiment_tags = {\n",
    "    \"project_name\": \"Text2Emoji\",\n",
    "    \"team\": \"solo-ilmerkul\",\n",
    "    \"project_quarter\": \"Q4-2024\",\n",
    "    \"mlflow.note.content\": experiment_description,\n",
    "}\n",
    "\n",
    "# Create the Experiment, providing a unique name\n",
    "experiment = client.create_experiment(\n",
    "    name=\"1.0_exp_2.0-ilmerkul-data-process\", tags=experiment_tags\n",
    ")"
   ]
  },
  {
   "cell_type": "code",
   "execution_count": 35,
   "id": "b6d67be4-ccbf-42eb-a41d-fe12177960d8",
   "metadata": {},
   "outputs": [],
   "source": [
    "run_name = \"1.0-data-process\"\n",
    "\n",
    "artifact_path = \"data-process\""
   ]
  },
  {
   "cell_type": "code",
   "execution_count": 52,
   "id": "1fed8179-7ee3-41c1-9931-236b0fa3f9b6",
   "metadata": {},
   "outputs": [],
   "source": [
    "dataset = mlflow.data.from_huggingface(\n",
    "    dataset.dataset, data_dir='KomeijiForce/Text2Emoji', name=\"KomeijiForce dataset with simply processing\"\n",
    ")"
   ]
  },
  {
   "cell_type": "code",
   "execution_count": 53,
   "id": "3ac42ad0-b675-4739-91ac-d056999474b4",
   "metadata": {},
   "outputs": [
    {
     "ename": "KeyboardInterrupt",
     "evalue": "",
     "output_type": "error",
     "traceback": [
      "\u001b[1;31m---------------------------------------------------------------------------\u001b[0m",
      "\u001b[1;31mKeyboardInterrupt\u001b[0m                         Traceback (most recent call last)",
      "Cell \u001b[1;32mIn[53], line 2\u001b[0m\n\u001b[0;32m      1\u001b[0m \u001b[38;5;28;01mwith\u001b[39;00m mlflow\u001b[38;5;241m.\u001b[39mstart_run(run_name\u001b[38;5;241m=\u001b[39mrun_name) \u001b[38;5;28;01mas\u001b[39;00m run:\n\u001b[1;32m----> 2\u001b[0m     \u001b[43mmlflow\u001b[49m\u001b[38;5;241;43m.\u001b[39;49m\u001b[43mlog_input\u001b[49m\u001b[43m(\u001b[49m\u001b[43mdataset\u001b[49m\u001b[43m,\u001b[49m\u001b[43m \u001b[49m\u001b[43mcontext\u001b[49m\u001b[38;5;241;43m=\u001b[39;49m\u001b[38;5;124;43m\"\u001b[39;49m\u001b[38;5;124;43mtraining\u001b[39;49m\u001b[38;5;124;43m\"\u001b[39;49m\u001b[43m)\u001b[49m\n",
      "File \u001b[1;32m~\\AppData\\Local\\Programs\\Python\\Python310\\lib\\site-packages\\mlflow\\tracking\\fluent.py:1019\u001b[0m, in \u001b[0;36mlog_input\u001b[1;34m(dataset, context, tags)\u001b[0m\n\u001b[0;32m   1016\u001b[0m \u001b[38;5;28;01mif\u001b[39;00m context:\n\u001b[0;32m   1017\u001b[0m     tags_to_log\u001b[38;5;241m.\u001b[39mappend(InputTag(key\u001b[38;5;241m=\u001b[39mMLFLOW_DATASET_CONTEXT, value\u001b[38;5;241m=\u001b[39mcontext))\n\u001b[1;32m-> 1019\u001b[0m dataset_input \u001b[38;5;241m=\u001b[39m DatasetInput(dataset\u001b[38;5;241m=\u001b[39m\u001b[43mdataset\u001b[49m\u001b[38;5;241;43m.\u001b[39;49m\u001b[43m_to_mlflow_entity\u001b[49m\u001b[43m(\u001b[49m\u001b[43m)\u001b[49m, tags\u001b[38;5;241m=\u001b[39mtags_to_log)\n\u001b[0;32m   1021\u001b[0m MlflowClient()\u001b[38;5;241m.\u001b[39mlog_inputs(run_id\u001b[38;5;241m=\u001b[39mrun_id, datasets\u001b[38;5;241m=\u001b[39m[dataset_input])\n",
      "File \u001b[1;32m~\\AppData\\Local\\Programs\\Python\\Python310\\lib\\site-packages\\mlflow\\data\\dataset.py:116\u001b[0m, in \u001b[0;36mDataset._to_mlflow_entity\u001b[1;34m(self)\u001b[0m\n\u001b[0;32m    111\u001b[0m \u001b[38;5;28;01mdef\u001b[39;00m \u001b[38;5;21m_to_mlflow_entity\u001b[39m(\u001b[38;5;28mself\u001b[39m) \u001b[38;5;241m-\u001b[39m\u001b[38;5;241m>\u001b[39m DatasetEntity:\n\u001b[0;32m    112\u001b[0m \u001b[38;5;250m    \u001b[39m\u001b[38;5;124;03m\"\"\"\u001b[39;00m\n\u001b[0;32m    113\u001b[0m \u001b[38;5;124;03m    Returns:\u001b[39;00m\n\u001b[0;32m    114\u001b[0m \u001b[38;5;124;03m        A `mlflow.entities.Dataset` instance representing the dataset.\u001b[39;00m\n\u001b[0;32m    115\u001b[0m \u001b[38;5;124;03m    \"\"\"\u001b[39;00m\n\u001b[1;32m--> 116\u001b[0m     dataset_dict \u001b[38;5;241m=\u001b[39m \u001b[38;5;28;43mself\u001b[39;49m\u001b[38;5;241;43m.\u001b[39;49m\u001b[43mto_dict\u001b[49m\u001b[43m(\u001b[49m\u001b[43m)\u001b[49m\n\u001b[0;32m    117\u001b[0m     \u001b[38;5;28;01mreturn\u001b[39;00m DatasetEntity(\n\u001b[0;32m    118\u001b[0m         name\u001b[38;5;241m=\u001b[39mdataset_dict[\u001b[38;5;124m\"\u001b[39m\u001b[38;5;124mname\u001b[39m\u001b[38;5;124m\"\u001b[39m],\n\u001b[0;32m    119\u001b[0m         digest\u001b[38;5;241m=\u001b[39mdataset_dict[\u001b[38;5;124m\"\u001b[39m\u001b[38;5;124mdigest\u001b[39m\u001b[38;5;124m\"\u001b[39m],\n\u001b[1;32m   (...)\u001b[0m\n\u001b[0;32m    123\u001b[0m         profile\u001b[38;5;241m=\u001b[39mdataset_dict\u001b[38;5;241m.\u001b[39mget(\u001b[38;5;124m\"\u001b[39m\u001b[38;5;124mprofile\u001b[39m\u001b[38;5;124m\"\u001b[39m),\n\u001b[0;32m    124\u001b[0m     )\n",
      "File \u001b[1;32m~\\AppData\\Local\\Programs\\Python\\Python310\\lib\\site-packages\\mlflow\\data\\huggingface_dataset.py:76\u001b[0m, in \u001b[0;36mHuggingFaceDataset.to_dict\u001b[1;34m(self)\u001b[0m\n\u001b[0;32m     70\u001b[0m \u001b[38;5;28;01mdef\u001b[39;00m \u001b[38;5;21mto_dict\u001b[39m(\u001b[38;5;28mself\u001b[39m) \u001b[38;5;241m-\u001b[39m\u001b[38;5;241m>\u001b[39m Dict[\u001b[38;5;28mstr\u001b[39m, \u001b[38;5;28mstr\u001b[39m]:\n\u001b[0;32m     71\u001b[0m \u001b[38;5;250m    \u001b[39m\u001b[38;5;124;03m\"\"\"Create config dictionary for the dataset.\u001b[39;00m\n\u001b[0;32m     72\u001b[0m \n\u001b[0;32m     73\u001b[0m \u001b[38;5;124;03m    Returns a string dictionary containing the following fields: name, digest, source, source\u001b[39;00m\n\u001b[0;32m     74\u001b[0m \u001b[38;5;124;03m    type, schema, and profile.\u001b[39;00m\n\u001b[0;32m     75\u001b[0m \u001b[38;5;124;03m    \"\"\"\u001b[39;00m\n\u001b[1;32m---> 76\u001b[0m     schema \u001b[38;5;241m=\u001b[39m json\u001b[38;5;241m.\u001b[39mdumps({\u001b[38;5;124m\"\u001b[39m\u001b[38;5;124mmlflow_colspec\u001b[39m\u001b[38;5;124m\"\u001b[39m: \u001b[38;5;28mself\u001b[39m\u001b[38;5;241m.\u001b[39mschema\u001b[38;5;241m.\u001b[39mto_dict()}) \u001b[38;5;28;01mif\u001b[39;00m \u001b[38;5;28;43mself\u001b[39;49m\u001b[38;5;241;43m.\u001b[39;49m\u001b[43mschema\u001b[49m \u001b[38;5;28;01melse\u001b[39;00m \u001b[38;5;28;01mNone\u001b[39;00m\n\u001b[0;32m     77\u001b[0m     config \u001b[38;5;241m=\u001b[39m \u001b[38;5;28msuper\u001b[39m()\u001b[38;5;241m.\u001b[39mto_dict()\n\u001b[0;32m     78\u001b[0m     config\u001b[38;5;241m.\u001b[39mupdate(\n\u001b[0;32m     79\u001b[0m         {\n\u001b[0;32m     80\u001b[0m             \u001b[38;5;124m\"\u001b[39m\u001b[38;5;124mschema\u001b[39m\u001b[38;5;124m\"\u001b[39m: schema,\n\u001b[0;32m     81\u001b[0m             \u001b[38;5;124m\"\u001b[39m\u001b[38;5;124mprofile\u001b[39m\u001b[38;5;124m\"\u001b[39m: json\u001b[38;5;241m.\u001b[39mdumps(\u001b[38;5;28mself\u001b[39m\u001b[38;5;241m.\u001b[39mprofile),\n\u001b[0;32m     82\u001b[0m         }\n\u001b[0;32m     83\u001b[0m     )\n",
      "File \u001b[1;32m~\\AppData\\Local\\Programs\\Python\\Python310\\lib\\functools.py:970\u001b[0m, in \u001b[0;36mcached_property.__get__\u001b[1;34m(self, instance, owner)\u001b[0m\n\u001b[0;32m    968\u001b[0m val \u001b[38;5;241m=\u001b[39m cache\u001b[38;5;241m.\u001b[39mget(\u001b[38;5;28mself\u001b[39m\u001b[38;5;241m.\u001b[39mattrname, _NOT_FOUND)\n\u001b[0;32m    969\u001b[0m \u001b[38;5;28;01mif\u001b[39;00m val \u001b[38;5;129;01mis\u001b[39;00m _NOT_FOUND:\n\u001b[1;32m--> 970\u001b[0m     val \u001b[38;5;241m=\u001b[39m \u001b[38;5;28;43mself\u001b[39;49m\u001b[38;5;241;43m.\u001b[39;49m\u001b[43mfunc\u001b[49m\u001b[43m(\u001b[49m\u001b[43minstance\u001b[49m\u001b[43m)\u001b[49m\n\u001b[0;32m    971\u001b[0m     \u001b[38;5;28;01mtry\u001b[39;00m:\n\u001b[0;32m    972\u001b[0m         cache[\u001b[38;5;28mself\u001b[39m\u001b[38;5;241m.\u001b[39mattrname] \u001b[38;5;241m=\u001b[39m val\n",
      "File \u001b[1;32m~\\AppData\\Local\\Programs\\Python\\Python310\\lib\\site-packages\\mlflow\\data\\huggingface_dataset.py:139\u001b[0m, in \u001b[0;36mHuggingFaceDataset.schema\u001b[1;34m(self)\u001b[0m\n\u001b[0;32m    133\u001b[0m \u001b[38;5;28;01mtry\u001b[39;00m:\n\u001b[0;32m    134\u001b[0m     df \u001b[38;5;241m=\u001b[39m \u001b[38;5;28mnext\u001b[39m(\n\u001b[0;32m    135\u001b[0m         \u001b[38;5;28mself\u001b[39m\u001b[38;5;241m.\u001b[39m_ds\u001b[38;5;241m.\u001b[39mto_pandas(\n\u001b[0;32m    136\u001b[0m             batch_size\u001b[38;5;241m=\u001b[39m_MAX_ROWS_FOR_DIGEST_COMPUTATION_AND_SCHEMA_INFERENCE, batched\u001b[38;5;241m=\u001b[39m\u001b[38;5;28;01mTrue\u001b[39;00m\n\u001b[0;32m    137\u001b[0m         )\n\u001b[0;32m    138\u001b[0m     )\n\u001b[1;32m--> 139\u001b[0m     \u001b[38;5;28;01mreturn\u001b[39;00m \u001b[43m_infer_schema\u001b[49m\u001b[43m(\u001b[49m\u001b[43mdf\u001b[49m\u001b[43m)\u001b[49m\n\u001b[0;32m    140\u001b[0m \u001b[38;5;28;01mexcept\u001b[39;00m \u001b[38;5;167;01mException\u001b[39;00m \u001b[38;5;28;01mas\u001b[39;00m e:\n\u001b[0;32m    141\u001b[0m     _logger\u001b[38;5;241m.\u001b[39mwarning(\u001b[38;5;124m\"\u001b[39m\u001b[38;5;124mFailed to infer schema for Hugging Face dataset. Exception: \u001b[39m\u001b[38;5;132;01m%s\u001b[39;00m\u001b[38;5;124m\"\u001b[39m, e)\n",
      "File \u001b[1;32m~\\AppData\\Local\\Programs\\Python\\Python310\\lib\\site-packages\\mlflow\\types\\utils.py:341\u001b[0m, in \u001b[0;36m_infer_schema\u001b[1;34m(data)\u001b[0m\n\u001b[0;32m    338\u001b[0m \u001b[38;5;66;03m# pandas.DataFrame\u001b[39;00m\n\u001b[0;32m    339\u001b[0m \u001b[38;5;28;01melif\u001b[39;00m \u001b[38;5;28misinstance\u001b[39m(data, pd\u001b[38;5;241m.\u001b[39mDataFrame):\n\u001b[0;32m    340\u001b[0m     schema \u001b[38;5;241m=\u001b[39m Schema(\n\u001b[1;32m--> 341\u001b[0m         [\n\u001b[0;32m    342\u001b[0m             ColSpec(\n\u001b[0;32m    343\u001b[0m                 \u001b[38;5;28mtype\u001b[39m\u001b[38;5;241m=\u001b[39m_infer_pandas_column(data[col]),\n\u001b[0;32m    344\u001b[0m                 name\u001b[38;5;241m=\u001b[39mcol,\n\u001b[0;32m    345\u001b[0m                 required\u001b[38;5;241m=\u001b[39m_infer_required(data[col]),\n\u001b[0;32m    346\u001b[0m             )\n\u001b[0;32m    347\u001b[0m             \u001b[38;5;28;01mfor\u001b[39;00m col \u001b[38;5;129;01min\u001b[39;00m data\u001b[38;5;241m.\u001b[39mcolumns\n\u001b[0;32m    348\u001b[0m         ]\n\u001b[0;32m    349\u001b[0m     )\n\u001b[0;32m    350\u001b[0m \u001b[38;5;66;03m# numpy.ndarray\u001b[39;00m\n\u001b[0;32m    351\u001b[0m \u001b[38;5;28;01melif\u001b[39;00m \u001b[38;5;28misinstance\u001b[39m(data, np\u001b[38;5;241m.\u001b[39mndarray):\n",
      "File \u001b[1;32m~\\AppData\\Local\\Programs\\Python\\Python310\\lib\\site-packages\\mlflow\\types\\utils.py:343\u001b[0m, in \u001b[0;36m<listcomp>\u001b[1;34m(.0)\u001b[0m\n\u001b[0;32m    338\u001b[0m \u001b[38;5;66;03m# pandas.DataFrame\u001b[39;00m\n\u001b[0;32m    339\u001b[0m \u001b[38;5;28;01melif\u001b[39;00m \u001b[38;5;28misinstance\u001b[39m(data, pd\u001b[38;5;241m.\u001b[39mDataFrame):\n\u001b[0;32m    340\u001b[0m     schema \u001b[38;5;241m=\u001b[39m Schema(\n\u001b[0;32m    341\u001b[0m         [\n\u001b[0;32m    342\u001b[0m             ColSpec(\n\u001b[1;32m--> 343\u001b[0m                 \u001b[38;5;28mtype\u001b[39m\u001b[38;5;241m=\u001b[39m\u001b[43m_infer_pandas_column\u001b[49m\u001b[43m(\u001b[49m\u001b[43mdata\u001b[49m\u001b[43m[\u001b[49m\u001b[43mcol\u001b[49m\u001b[43m]\u001b[49m\u001b[43m)\u001b[49m,\n\u001b[0;32m    344\u001b[0m                 name\u001b[38;5;241m=\u001b[39mcol,\n\u001b[0;32m    345\u001b[0m                 required\u001b[38;5;241m=\u001b[39m_infer_required(data[col]),\n\u001b[0;32m    346\u001b[0m             )\n\u001b[0;32m    347\u001b[0m             \u001b[38;5;28;01mfor\u001b[39;00m col \u001b[38;5;129;01min\u001b[39;00m data\u001b[38;5;241m.\u001b[39mcolumns\n\u001b[0;32m    348\u001b[0m         ]\n\u001b[0;32m    349\u001b[0m     )\n\u001b[0;32m    350\u001b[0m \u001b[38;5;66;03m# numpy.ndarray\u001b[39;00m\n\u001b[0;32m    351\u001b[0m \u001b[38;5;28;01melif\u001b[39;00m \u001b[38;5;28misinstance\u001b[39m(data, np\u001b[38;5;241m.\u001b[39mndarray):\n",
      "File \u001b[1;32m~\\AppData\\Local\\Programs\\Python\\Python310\\lib\\site-packages\\mlflow\\types\\utils.py:486\u001b[0m, in \u001b[0;36m_infer_pandas_column\u001b[1;34m(col)\u001b[0m\n\u001b[0;32m    482\u001b[0m \u001b[38;5;28;01mif\u001b[39;00m col\u001b[38;5;241m.\u001b[39mdtype\u001b[38;5;241m.\u001b[39mkind \u001b[38;5;241m==\u001b[39m \u001b[38;5;124m\"\u001b[39m\u001b[38;5;124mO\u001b[39m\u001b[38;5;124m\"\u001b[39m:\n\u001b[0;32m    483\u001b[0m     \u001b[38;5;28;01mtry\u001b[39;00m:\n\u001b[0;32m    484\u001b[0m         \u001b[38;5;66;03m# We convert pandas Series into list and infer the schema.\u001b[39;00m\n\u001b[0;32m    485\u001b[0m         \u001b[38;5;66;03m# The real schema for internal field should be the Array's dtype\u001b[39;00m\n\u001b[1;32m--> 486\u001b[0m         arr_type \u001b[38;5;241m=\u001b[39m \u001b[43m_infer_colspec_type\u001b[49m\u001b[43m(\u001b[49m\u001b[43mcol\u001b[49m\u001b[38;5;241;43m.\u001b[39;49m\u001b[43mto_list\u001b[49m\u001b[43m(\u001b[49m\u001b[43m)\u001b[49m\u001b[43m)\u001b[49m\n\u001b[0;32m    487\u001b[0m         \u001b[38;5;28;01mreturn\u001b[39;00m arr_type\u001b[38;5;241m.\u001b[39mdtype\n\u001b[0;32m    488\u001b[0m     \u001b[38;5;28;01mexcept\u001b[39;00m \u001b[38;5;167;01mException\u001b[39;00m \u001b[38;5;28;01mas\u001b[39;00m e:\n\u001b[0;32m    489\u001b[0m         \u001b[38;5;66;03m# For backwards compatibility, we fall back to string\u001b[39;00m\n\u001b[0;32m    490\u001b[0m         \u001b[38;5;66;03m# if the provided array is of string type\u001b[39;00m\n\u001b[0;32m    491\u001b[0m         \u001b[38;5;66;03m# This is for diviner test where df field is ('key2', 'key1', 'key0')\u001b[39;00m\n",
      "File \u001b[1;32m~\\AppData\\Local\\Programs\\Python\\Python310\\lib\\site-packages\\mlflow\\types\\utils.py:99\u001b[0m, in \u001b[0;36m_infer_colspec_type\u001b[1;34m(data)\u001b[0m\n\u001b[0;32m     89\u001b[0m \u001b[38;5;28;01mdef\u001b[39;00m \u001b[38;5;21m_infer_colspec_type\u001b[39m(data: Any) \u001b[38;5;241m-\u001b[39m\u001b[38;5;241m>\u001b[39m Union[DataType, Array, Object]:\n\u001b[0;32m     90\u001b[0m \u001b[38;5;250m    \u001b[39m\u001b[38;5;124;03m\"\"\"\u001b[39;00m\n\u001b[0;32m     91\u001b[0m \u001b[38;5;124;03m    Infer an MLflow Colspec type from the dataset.\u001b[39;00m\n\u001b[0;32m     92\u001b[0m \n\u001b[1;32m   (...)\u001b[0m\n\u001b[0;32m     97\u001b[0m \u001b[38;5;124;03m        Object\u001b[39;00m\n\u001b[0;32m     98\u001b[0m \u001b[38;5;124;03m    \"\"\"\u001b[39;00m\n\u001b[1;32m---> 99\u001b[0m     dtype \u001b[38;5;241m=\u001b[39m \u001b[43m_infer_datatype\u001b[49m\u001b[43m(\u001b[49m\u001b[43mdata\u001b[49m\u001b[43m)\u001b[49m\n\u001b[0;32m    101\u001b[0m     \u001b[38;5;66;03m# Currently only input that gives None is nested list whose items are all empty e.g. [[], []],\u001b[39;00m\n\u001b[0;32m    102\u001b[0m     \u001b[38;5;66;03m# because flat empty list [] has special handlign logic in _infer_schema\u001b[39;00m\n\u001b[0;32m    103\u001b[0m     \u001b[38;5;28;01mif\u001b[39;00m dtype \u001b[38;5;129;01mis\u001b[39;00m \u001b[38;5;28;01mNone\u001b[39;00m:\n",
      "File \u001b[1;32m~\\AppData\\Local\\Programs\\Python\\Python310\\lib\\site-packages\\mlflow\\types\\utils.py:122\u001b[0m, in \u001b[0;36m_infer_datatype\u001b[1;34m(data)\u001b[0m\n\u001b[0;32m    119\u001b[0m     \u001b[38;5;28;01mreturn\u001b[39;00m Object(properties\u001b[38;5;241m=\u001b[39mproperties)\n\u001b[0;32m    121\u001b[0m \u001b[38;5;28;01mif\u001b[39;00m \u001b[38;5;28misinstance\u001b[39m(data, (\u001b[38;5;28mlist\u001b[39m, np\u001b[38;5;241m.\u001b[39mndarray)):\n\u001b[1;32m--> 122\u001b[0m     \u001b[38;5;28;01mreturn\u001b[39;00m \u001b[43m_infer_array_datatype\u001b[49m\u001b[43m(\u001b[49m\u001b[43mdata\u001b[49m\u001b[43m)\u001b[49m\n\u001b[0;32m    124\u001b[0m \u001b[38;5;28;01mreturn\u001b[39;00m _infer_scalar_datatype(data)\n",
      "File \u001b[1;32m~\\AppData\\Local\\Programs\\Python\\Python310\\lib\\site-packages\\mlflow\\types\\utils.py:151\u001b[0m, in \u001b[0;36m_infer_array_datatype\u001b[1;34m(data)\u001b[0m\n\u001b[0;32m    148\u001b[0m \u001b[38;5;28;01mif\u001b[39;00m _is_none_or_nan(item):\n\u001b[0;32m    149\u001b[0m     \u001b[38;5;28;01mcontinue\u001b[39;00m\n\u001b[1;32m--> 151\u001b[0m dtype \u001b[38;5;241m=\u001b[39m \u001b[43m_infer_datatype\u001b[49m\u001b[43m(\u001b[49m\u001b[43mitem\u001b[49m\u001b[43m)\u001b[49m\n\u001b[0;32m    153\u001b[0m \u001b[38;5;66;03m# Skip item with undetermined type\u001b[39;00m\n\u001b[0;32m    154\u001b[0m \u001b[38;5;28;01mif\u001b[39;00m dtype \u001b[38;5;129;01mis\u001b[39;00m \u001b[38;5;28;01mNone\u001b[39;00m:\n",
      "File \u001b[1;32m~\\AppData\\Local\\Programs\\Python\\Python310\\lib\\site-packages\\mlflow\\types\\utils.py:122\u001b[0m, in \u001b[0;36m_infer_datatype\u001b[1;34m(data)\u001b[0m\n\u001b[0;32m    119\u001b[0m     \u001b[38;5;28;01mreturn\u001b[39;00m Object(properties\u001b[38;5;241m=\u001b[39mproperties)\n\u001b[0;32m    121\u001b[0m \u001b[38;5;28;01mif\u001b[39;00m \u001b[38;5;28misinstance\u001b[39m(data, (\u001b[38;5;28mlist\u001b[39m, np\u001b[38;5;241m.\u001b[39mndarray)):\n\u001b[1;32m--> 122\u001b[0m     \u001b[38;5;28;01mreturn\u001b[39;00m \u001b[43m_infer_array_datatype\u001b[49m\u001b[43m(\u001b[49m\u001b[43mdata\u001b[49m\u001b[43m)\u001b[49m\n\u001b[0;32m    124\u001b[0m \u001b[38;5;28;01mreturn\u001b[39;00m _infer_scalar_datatype(data)\n",
      "File \u001b[1;32m~\\AppData\\Local\\Programs\\Python\\Python310\\lib\\site-packages\\mlflow\\types\\utils.py:151\u001b[0m, in \u001b[0;36m_infer_array_datatype\u001b[1;34m(data)\u001b[0m\n\u001b[0;32m    148\u001b[0m \u001b[38;5;28;01mif\u001b[39;00m _is_none_or_nan(item):\n\u001b[0;32m    149\u001b[0m     \u001b[38;5;28;01mcontinue\u001b[39;00m\n\u001b[1;32m--> 151\u001b[0m dtype \u001b[38;5;241m=\u001b[39m \u001b[43m_infer_datatype\u001b[49m\u001b[43m(\u001b[49m\u001b[43mitem\u001b[49m\u001b[43m)\u001b[49m\n\u001b[0;32m    153\u001b[0m \u001b[38;5;66;03m# Skip item with undetermined type\u001b[39;00m\n\u001b[0;32m    154\u001b[0m \u001b[38;5;28;01mif\u001b[39;00m dtype \u001b[38;5;129;01mis\u001b[39;00m \u001b[38;5;28;01mNone\u001b[39;00m:\n",
      "File \u001b[1;32m~\\AppData\\Local\\Programs\\Python\\Python310\\lib\\site-packages\\mlflow\\types\\utils.py:124\u001b[0m, in \u001b[0;36m_infer_datatype\u001b[1;34m(data)\u001b[0m\n\u001b[0;32m    121\u001b[0m \u001b[38;5;28;01mif\u001b[39;00m \u001b[38;5;28misinstance\u001b[39m(data, (\u001b[38;5;28mlist\u001b[39m, np\u001b[38;5;241m.\u001b[39mndarray)):\n\u001b[0;32m    122\u001b[0m     \u001b[38;5;28;01mreturn\u001b[39;00m _infer_array_datatype(data)\n\u001b[1;32m--> 124\u001b[0m \u001b[38;5;28;01mreturn\u001b[39;00m \u001b[43m_infer_scalar_datatype\u001b[49m\u001b[43m(\u001b[49m\u001b[43mdata\u001b[49m\u001b[43m)\u001b[49m\n",
      "File \u001b[1;32m~\\AppData\\Local\\Programs\\Python\\Python310\\lib\\site-packages\\mlflow\\types\\utils.py:179\u001b[0m, in \u001b[0;36m_infer_scalar_datatype\u001b[1;34m(data)\u001b[0m\n\u001b[0;32m    178\u001b[0m \u001b[38;5;28;01mdef\u001b[39;00m \u001b[38;5;21m_infer_scalar_datatype\u001b[39m(data) \u001b[38;5;241m-\u001b[39m\u001b[38;5;241m>\u001b[39m DataType:\n\u001b[1;32m--> 179\u001b[0m     \u001b[38;5;28;01mif\u001b[39;00m \u001b[43mDataType\u001b[49m\u001b[38;5;241;43m.\u001b[39;49m\u001b[43mis_boolean\u001b[49m\u001b[43m(\u001b[49m\u001b[43mdata\u001b[49m\u001b[43m)\u001b[49m:\n\u001b[0;32m    180\u001b[0m         \u001b[38;5;28;01mreturn\u001b[39;00m DataType\u001b[38;5;241m.\u001b[39mboolean\n\u001b[0;32m    181\u001b[0m     \u001b[38;5;66;03m# Order of is_long & is_integer matters\u001b[39;00m\n\u001b[0;32m    182\u001b[0m     \u001b[38;5;66;03m# as both of their python_types are int\u001b[39;00m\n",
      "File \u001b[1;32m~\\AppData\\Local\\Programs\\Python\\Python310\\lib\\site-packages\\mlflow\\types\\schema.py:91\u001b[0m, in \u001b[0;36mDataType.is_boolean\u001b[1;34m(cls, value)\u001b[0m\n\u001b[0;32m     89\u001b[0m \u001b[38;5;129m@classmethod\u001b[39m\n\u001b[0;32m     90\u001b[0m \u001b[38;5;28;01mdef\u001b[39;00m \u001b[38;5;21mis_boolean\u001b[39m(\u001b[38;5;28mcls\u001b[39m, value):\n\u001b[1;32m---> 91\u001b[0m     \u001b[38;5;28;01mreturn\u001b[39;00m \u001b[38;5;28mtype\u001b[39m(value) \u001b[38;5;129;01min\u001b[39;00m \u001b[43mDataType\u001b[49m\u001b[38;5;241;43m.\u001b[39;49m\u001b[43mboolean\u001b[49m\u001b[38;5;241;43m.\u001b[39;49m\u001b[43mget_all_types\u001b[49m\u001b[43m(\u001b[49m\u001b[43m)\u001b[49m\n",
      "File \u001b[1;32m~\\AppData\\Local\\Programs\\Python\\Python310\\lib\\site-packages\\mlflow\\types\\schema.py:123\u001b[0m, in \u001b[0;36mDataType.get_all_types\u001b[1;34m(self)\u001b[0m\n\u001b[0;32m    121\u001b[0m \u001b[38;5;28;01mdef\u001b[39;00m \u001b[38;5;21mget_all_types\u001b[39m(\u001b[38;5;28mself\u001b[39m):\n\u001b[0;32m    122\u001b[0m     types \u001b[38;5;241m=\u001b[39m [\u001b[38;5;28mself\u001b[39m\u001b[38;5;241m.\u001b[39mto_numpy(), \u001b[38;5;28mself\u001b[39m\u001b[38;5;241m.\u001b[39mto_pandas(), \u001b[38;5;28mself\u001b[39m\u001b[38;5;241m.\u001b[39mto_python()]\n\u001b[1;32m--> 123\u001b[0m     \u001b[38;5;28;01mif\u001b[39;00m \u001b[43mimportlib\u001b[49m\u001b[38;5;241;43m.\u001b[39;49m\u001b[43mutil\u001b[49m\u001b[38;5;241;43m.\u001b[39;49m\u001b[43mfind_spec\u001b[49m\u001b[43m(\u001b[49m\u001b[38;5;124;43m\"\u001b[39;49m\u001b[38;5;124;43mpyspark\u001b[39;49m\u001b[38;5;124;43m\"\u001b[39;49m\u001b[43m)\u001b[49m \u001b[38;5;129;01mis\u001b[39;00m \u001b[38;5;129;01mnot\u001b[39;00m \u001b[38;5;28;01mNone\u001b[39;00m:\n\u001b[0;32m    124\u001b[0m         types\u001b[38;5;241m.\u001b[39mappend(\u001b[38;5;28mself\u001b[39m\u001b[38;5;241m.\u001b[39mto_spark())\n\u001b[0;32m    125\u001b[0m     \u001b[38;5;28;01mif\u001b[39;00m \u001b[38;5;28mself\u001b[39m\u001b[38;5;241m.\u001b[39mname \u001b[38;5;241m==\u001b[39m \u001b[38;5;124m\"\u001b[39m\u001b[38;5;124mdatetime\u001b[39m\u001b[38;5;124m\"\u001b[39m:\n",
      "File \u001b[1;32m~\\AppData\\Local\\Programs\\Python\\Python310\\lib\\importlib\\util.py:103\u001b[0m, in \u001b[0;36mfind_spec\u001b[1;34m(name, package)\u001b[0m\n\u001b[0;32m    101\u001b[0m     \u001b[38;5;28;01melse\u001b[39;00m:\n\u001b[0;32m    102\u001b[0m         parent_path \u001b[38;5;241m=\u001b[39m \u001b[38;5;28;01mNone\u001b[39;00m\n\u001b[1;32m--> 103\u001b[0m     \u001b[38;5;28;01mreturn\u001b[39;00m \u001b[43m_find_spec\u001b[49m\u001b[43m(\u001b[49m\u001b[43mfullname\u001b[49m\u001b[43m,\u001b[49m\u001b[43m \u001b[49m\u001b[43mparent_path\u001b[49m\u001b[43m)\u001b[49m\n\u001b[0;32m    104\u001b[0m \u001b[38;5;28;01melse\u001b[39;00m:\n\u001b[0;32m    105\u001b[0m     module \u001b[38;5;241m=\u001b[39m sys\u001b[38;5;241m.\u001b[39mmodules[fullname]\n",
      "File \u001b[1;32m<frozen importlib._bootstrap>:945\u001b[0m, in \u001b[0;36m_find_spec\u001b[1;34m(name, path, target)\u001b[0m\n",
      "File \u001b[1;32m<frozen importlib._bootstrap_external>:1430\u001b[0m, in \u001b[0;36mfind_spec\u001b[1;34m(cls, fullname, path, target)\u001b[0m\n",
      "File \u001b[1;32m<frozen importlib._bootstrap_external>:1402\u001b[0m, in \u001b[0;36m_get_spec\u001b[1;34m(cls, fullname, path, target)\u001b[0m\n",
      "File \u001b[1;32m<frozen importlib._bootstrap_external>:1535\u001b[0m, in \u001b[0;36mfind_spec\u001b[1;34m(self, fullname, target)\u001b[0m\n",
      "File \u001b[1;32m<frozen importlib._bootstrap_external>:147\u001b[0m, in \u001b[0;36m_path_stat\u001b[1;34m(path)\u001b[0m\n",
      "\u001b[1;31mKeyboardInterrupt\u001b[0m: "
     ]
    }
   ],
   "source": [
    "with mlflow.start_run(run_name=run_name) as run:\n",
    "    mlflow.log_input(dataset, context=\"training\")"
   ]
  },
  {
   "cell_type": "code",
   "execution_count": null,
   "id": "07bcdb43-9efa-4bf9-a6ed-378702be874f",
   "metadata": {},
   "outputs": [],
   "source": []
  }
 ],
 "metadata": {
  "kernelspec": {
   "display_name": "Python 3 (ipykernel)",
   "language": "python",
   "name": "python3"
  },
  "language_info": {
   "codemirror_mode": {
    "name": "ipython",
    "version": 3
   },
   "file_extension": ".py",
   "mimetype": "text/x-python",
   "name": "python",
   "nbconvert_exporter": "python",
   "pygments_lexer": "ipython3",
   "version": "3.10.1"
  }
 },
 "nbformat": 4,
 "nbformat_minor": 5
}
