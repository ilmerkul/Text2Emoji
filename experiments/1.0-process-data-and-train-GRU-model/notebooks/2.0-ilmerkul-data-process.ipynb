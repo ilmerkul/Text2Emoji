{
 "cells": [
  {
   "cell_type": "markdown",
   "id": "9382ac77-1094-45e8-9965-1b306001ac39",
   "metadata": {},
   "source": [
    "## Data processing"
   ]
  },
  {
   "cell_type": "markdown",
   "id": "dc68542d-ccc2-4695-8b8a-f14490a5d477",
   "metadata": {},
   "source": [
    "Dependency import"
   ]
  },
  {
   "cell_type": "code",
   "execution_count": 1,
   "id": "d20cc028-8cf7-4f05-a4a7-ed2887da7503",
   "metadata": {},
   "outputs": [],
   "source": [
    "import os\n",
    "import sys"
   ]
  },
  {
   "cell_type": "markdown",
   "id": "23480e9d-aad6-4c18-ac28-09a76867bfe0",
   "metadata": {},
   "source": [
    "Add path of project modules to visible area"
   ]
  },
  {
   "cell_type": "code",
   "execution_count": 2,
   "id": "6ecb6357-c33a-49e1-8f3c-64682c823011",
   "metadata": {},
   "outputs": [],
   "source": [
    "nb_dir = os.path.split(os.getcwd())[0]\n",
    "if nb_dir not in sys.path:\n",
    "    sys.path.append(nb_dir)"
   ]
  },
  {
   "cell_type": "code",
   "execution_count": 3,
   "id": "0006ba7d-b11b-4196-9378-a46891cf51e9",
   "metadata": {},
   "outputs": [],
   "source": [
    "from datasets import load_from_disk\n",
    "from torch import save\n",
    "\n",
    "from hydra import compose, initialize\n",
    "from omegaconf import OmegaConf\n",
    "from loguru import logger\n",
    "\n",
    "from src.parser import Text2EmojiParser\n",
    "from src.dataset import Text2EmojiDataset\n",
    "from src.utils import seed_all, set_logger\n",
    "from src.transfer import get_glove_embbedings"
   ]
  },
  {
   "cell_type": "markdown",
   "id": "4e02d8b9-af93-49e5-a350-cd23694be553",
   "metadata": {},
   "source": [
    "Set logger"
   ]
  },
  {
   "cell_type": "code",
   "execution_count": 4,
   "id": "50ca50f3-b2ee-4697-9622-0bbb713def56",
   "metadata": {},
   "outputs": [],
   "source": [
    "set_logger()"
   ]
  },
  {
   "cell_type": "markdown",
   "id": "82cca241-e974-48a4-9293-9d2e7b3f0589",
   "metadata": {},
   "source": [
    "Set paths"
   ]
  },
  {
   "cell_type": "code",
   "execution_count": 5,
   "id": "b493ebcd-7578-488b-a1a9-7eb6e467839d",
   "metadata": {},
   "outputs": [],
   "source": [
    "path_load_dataset = '../data/datasets/raw/KomeijiForce'\n",
    "path_save_dataset = '../data/datasets/processed'\n",
    "path_save_parser = '../data/parser'\n",
    "path_save_embbeding = '../data/transfer/embbeding'\n",
    "path_config=\"../configs\""
   ]
  },
  {
   "cell_type": "markdown",
   "id": "abb1aab0-a5bc-4059-ba25-7ecdb3c6d07d",
   "metadata": {},
   "source": [
    "Set configs"
   ]
  },
  {
   "cell_type": "code",
   "execution_count": 6,
   "id": "07dd6296-fc46-45d1-a88b-8d19f8b8f650",
   "metadata": {},
   "outputs": [
    {
     "name": "stdout",
     "output_type": "stream",
     "text": [
      "model:\n",
      "  hidden_size: 350\n",
      "  num_layers: 2\n",
      "  dropout: 0.2\n",
      "  sup_unsup_ratio: 0.9\n",
      "processing:\n",
      "  data:\n",
      "    min_freq_emoji: 5\n",
      "    min_freq_text: 10\n",
      "    max_text_length: 128\n",
      "    train_test_ratio: 0.007\n",
      "  special_tokens:\n",
      "    pad:\n",
      "      id: 0\n",
      "      token: <pad>\n",
      "    sos:\n",
      "      id: 1\n",
      "      token: <sos>\n",
      "    eos:\n",
      "      id: 2\n",
      "      token: <eos>\n",
      "    unk:\n",
      "      id: 3\n",
      "      token: <unk>\n",
      "train:\n",
      "  epoch: 8\n",
      "  batch_sizes:\n",
      "  - 32\n",
      "  - 64\n",
      "  - 128\n",
      "  - 256\n",
      "  batch_milestones:\n",
      "  - 2\n",
      "  - 4\n",
      "  - 7\n",
      "  lr_0: 0.001\n",
      "  lr_milestones:\n",
      "  - 2\n",
      "  - 4\n",
      "  - 7\n",
      "  gamma: 0.464159\n",
      "  epoch_emb_requires_grad: 4\n",
      "  print_step: 100\n",
      "name: 1.0-process-data-and-train-GRU-model\n",
      "mlflow_server: http://127.0.0.1:5000\n",
      "seed: 42\n",
      "\n"
     ]
    }
   ],
   "source": [
    "initialize(version_base=None, config_path=path_config)\n",
    "cfg = compose(config_name=\"experiment\")\n",
    "print(OmegaConf.to_yaml(cfg))"
   ]
  },
  {
   "cell_type": "code",
   "execution_count": 7,
   "id": "0cdc409e-c65a-42f5-9d90-459755af44e1",
   "metadata": {},
   "outputs": [],
   "source": [
    "st = cfg.processing.special_tokens\n",
    "pad_token, sos_token, eos_token, unk_token = st.pad.token, st.sos.token, st.eos.token, st.unk.token\n",
    "pad_idx, sos_idx, eos_idx, unk_idx = st.pad.id, st.sos.id, st.eos.id, st.unk.id"
   ]
  },
  {
   "cell_type": "markdown",
   "id": "837fcd05-dfd2-4c6c-81e5-289bee60b691",
   "metadata": {},
   "source": [
    "Set seed"
   ]
  },
  {
   "cell_type": "code",
   "execution_count": 8,
   "id": "80fce233-8773-4b4a-89cd-ac6951571051",
   "metadata": {},
   "outputs": [],
   "source": [
    "seed_all(cfg.seed)"
   ]
  },
  {
   "cell_type": "markdown",
   "id": "53fb0732-fe78-4bf7-b58f-d242b943ad4a",
   "metadata": {},
   "source": [
    "Load data"
   ]
  },
  {
   "cell_type": "code",
   "execution_count": 9,
   "id": "ea7801fd-96f7-46d5-84a2-c7364845010f",
   "metadata": {},
   "outputs": [
    {
     "name": "stdout",
     "output_type": "stream",
     "text": [
      "2024-11-06 09:50:33 | INFO | Data load\n"
     ]
    }
   ],
   "source": [
    "logger.info(f'Data load')\n",
    "dataset = load_from_disk(path_load_dataset)"
   ]
  },
  {
   "cell_type": "markdown",
   "id": "54cf648b-1b39-45c5-b22c-25850b476f90",
   "metadata": {},
   "source": [
    "Prepare data"
   ]
  },
  {
   "cell_type": "code",
   "execution_count": 10,
   "id": "6f46f266-6274-4428-aefb-5839f5a5f4fb",
   "metadata": {},
   "outputs": [
    {
     "name": "stdout",
     "output_type": "stream",
     "text": [
      "2024-11-06 09:50:35 | INFO | Data preprocessing started with test size: 0.007\n"
     ]
    }
   ],
   "source": [
    "logger.info(f'Data preprocessing started with test size: {cfg.processing.data.train_test_ratio}')\n",
    "parser = Text2EmojiParser(pad_token=pad_token, sos_token=sos_token, eos_token=eos_token, unk_token=unk_token)\n",
    "dataset = Text2EmojiDataset(dataset)"
   ]
  },
  {
   "cell_type": "code",
   "execution_count": 11,
   "id": "f6f9fb37-6894-4401-9029-82f57f60b39c",
   "metadata": {},
   "outputs": [
    {
     "data": {
      "application/vnd.jupyter.widget-view+json": {
       "model_id": "cdc05abffb954a9a88d06f95c8052e60",
       "version_major": 2,
       "version_minor": 0
      },
      "text/plain": [
       "Filter:   0%|          | 0/503687 [00:00<?, ? examples/s]"
      ]
     },
     "metadata": {},
     "output_type": "display_data"
    }
   ],
   "source": [
    "dataset.filter_none()\n",
    "dataset.shuffle(cfg.seed)"
   ]
  },
  {
   "cell_type": "code",
   "execution_count": 12,
   "id": "85bdfa93-177c-43e1-a399-63223727a78c",
   "metadata": {},
   "outputs": [
    {
     "name": "stdout",
     "output_type": "stream",
     "text": [
      "2024-11-06 09:50:45 | INFO | Data tokenization\n"
     ]
    },
    {
     "data": {
      "application/vnd.jupyter.widget-view+json": {
       "model_id": "91a34ec714de4d61a6ab48a569e6ec4c",
       "version_major": 2,
       "version_minor": 0
      },
      "text/plain": [
       "Map:   0%|          | 0/503682 [00:00<?, ? examples/s]"
      ]
     },
     "metadata": {},
     "output_type": "display_data"
    },
    {
     "data": {
      "application/vnd.jupyter.widget-view+json": {
       "model_id": "dd2db08f42e04c6997cb8b6a92067b23",
       "version_major": 2,
       "version_minor": 0
      },
      "text/plain": [
       "Map:   0%|          | 0/503682 [00:00<?, ? examples/s]"
      ]
     },
     "metadata": {},
     "output_type": "display_data"
    }
   ],
   "source": [
    "logger.info('Data tokenization')\n",
    "dataset.tokenization_dataset(parser.tokenize_emoji, parser.tokenize_text,\n",
    "                             cfg.processing.data.max_text_length)"
   ]
  },
  {
   "cell_type": "markdown",
   "id": "88c3005d-d2b7-4275-99e9-b0b82c14e91c",
   "metadata": {},
   "source": [
    "Create vocab"
   ]
  },
  {
   "cell_type": "code",
   "execution_count": 13,
   "id": "3be4b912-e7bd-4825-9347-205ba217abc4",
   "metadata": {},
   "outputs": [
    {
     "name": "stdout",
     "output_type": "stream",
     "text": [
      "2024-11-06 09:54:06 | INFO | Create vocab\n"
     ]
    }
   ],
   "source": [
    "logger.info('Create vocab')\n",
    "parser.create_vocab(dataset.dataset['tokenized_emoji'],\n",
    "                    dataset.dataset['tokenized_text'],\n",
    "                    cfg.processing.data.min_freq_emoji,\n",
    "                    cfg.processing.data.min_freq_text)\n",
    "parser.set_default_index(unk_idx)"
   ]
  },
  {
   "cell_type": "code",
   "execution_count": 14,
   "id": "db889625-f2ea-45e1-aab3-c63dadbf6e8c",
   "metadata": {},
   "outputs": [
    {
     "name": "stdout",
     "output_type": "stream",
     "text": [
      "2024-11-06 09:54:25 | INFO | Data numericalize\n"
     ]
    },
    {
     "data": {
      "application/vnd.jupyter.widget-view+json": {
       "model_id": "7712c3c9257442a6bd8f764f669eb0a1",
       "version_major": 2,
       "version_minor": 0
      },
      "text/plain": [
       "Map:   0%|          | 0/503682 [00:00<?, ? examples/s]"
      ]
     },
     "metadata": {},
     "output_type": "display_data"
    }
   ],
   "source": [
    "logger.info('Data numericalize')\n",
    "dataset.numericalize_dataset(parser.numericalize_data)"
   ]
  },
  {
   "cell_type": "markdown",
   "id": "364f935c-c396-47bd-8617-1c602c3a802f",
   "metadata": {},
   "source": [
    "Get embbedings"
   ]
  },
  {
   "cell_type": "code",
   "execution_count": 15,
   "id": "f7e1ebf4-b326-4b2d-8ea1-2d69d2aba5cc",
   "metadata": {},
   "outputs": [
    {
     "name": "stdout",
     "output_type": "stream",
     "text": [
      "2024-11-06 09:55:42 | INFO | Get Glove embbedings\n",
      "2024-11-06 09:56:20 | INFO | glove_word_count: 11234, size of vocab: 11525\n"
     ]
    }
   ],
   "source": [
    "logger.info('Get Glove embbedings')\n",
    "embbedings, glove_word_count = get_glove_embbedings(parser.text_vocab.get_itos()[1:])\n",
    "logger.info(f'glove_word_count: {glove_word_count}, size of vocab: {len(parser.text_vocab.get_itos()) - 1}')"
   ]
  },
  {
   "cell_type": "markdown",
   "id": "2723e368-6166-4c1b-ba14-47c6698b74e5",
   "metadata": {},
   "source": [
    "Save all on disk"
   ]
  },
  {
   "cell_type": "code",
   "execution_count": 16,
   "id": "0bff6431-06eb-4f67-917b-aa3444e35deb",
   "metadata": {},
   "outputs": [
    {
     "data": {
      "application/vnd.jupyter.widget-view+json": {
       "model_id": "b092f273b7234f178dbd8657ab97ca9b",
       "version_major": 2,
       "version_minor": 0
      },
      "text/plain": [
       "Saving the dataset (0/1 shards):   0%|          | 0/503682 [00:00<?, ? examples/s]"
      ]
     },
     "metadata": {},
     "output_type": "display_data"
    }
   ],
   "source": [
    "parser.save(path_save_parser + '/parser.pt')\n",
    "save(embbedings, path_save_embbeding + '/embbeding.pt')\n",
    "dataset.save(path_save_dataset)"
   ]
  },
  {
   "cell_type": "markdown",
   "id": "5745b740-22a7-45ec-9b00-068c3acdb871",
   "metadata": {},
   "source": [
    "Save on MLFlow"
   ]
  },
  {
   "cell_type": "code",
   "execution_count": 98,
   "id": "933490ce-f27b-4f7b-84c5-902c296318ac",
   "metadata": {},
   "outputs": [],
   "source": [
    "mlflow.set_tracking_uri(cfg.mlflow_server)"
   ]
  },
  {
   "cell_type": "markdown",
   "id": "abe32bf8-4ef6-4553-8549-7c2b13c6c61c",
   "metadata": {},
   "source": [
    "Create experiment for this repository"
   ]
  },
  {
   "cell_type": "code",
   "execution_count": 99,
   "id": "d42db85b-1cab-4246-b47d-a0f87bce652f",
   "metadata": {},
   "outputs": [
    {
     "data": {
      "text/plain": [
       "<Experiment: artifact_location='mlflow-artifacts:/1', creation_time=1730564946354, experiment_id='1', last_update_time=1730564946354, lifecycle_stage='active', name='1.0-process-data-and-train-GRU-model', tags={'mlflow.note.content': 'This experiment processes simply KomeijiForce dataset '\n",
       "                        'and train Text2Emoji Seq2Seq model.',\n",
       " 'project_name': 'Text2Emoji',\n",
       " 'project_quarter': 'Q4-2024',\n",
       " 'team': 'solo-ilmerkul'}>"
      ]
     },
     "execution_count": 99,
     "metadata": {},
     "output_type": "execute_result"
    }
   ],
   "source": [
    "experiment_description = (\n",
    "    \"This experiment processes simply KomeijiForce dataset and train Text2Emoji Seq2Seq model.\"\n",
    ")\n",
    "\n",
    "experiment_tags = {\n",
    "    \"project_name\": \"Text2Emoji\",\n",
    "    \"team\": \"solo-ilmerkul\",\n",
    "    \"project_quarter\": \"Q4-2024\",\n",
    "    \"mlflow.note.content\": experiment_description,\n",
    "}\n",
    "\n",
    "# Create the Experiment, providing a unique name\n",
    "mlflow.create_experiment(name=cfg.name, tags=experiment_tags)\n",
    "mlflow.set_experiment(cfg.name)"
   ]
  },
  {
   "cell_type": "code",
   "execution_count": 100,
   "id": "b6d67be4-ccbf-42eb-a41d-fe12177960d8",
   "metadata": {},
   "outputs": [],
   "source": [
    "run_name = \"1.0-data-process\""
   ]
  },
  {
   "cell_type": "code",
   "execution_count": 101,
   "id": "1fed8179-7ee3-41c1-9931-236b0fa3f9b6",
   "metadata": {},
   "outputs": [
    {
     "ename": "AttributeError",
     "evalue": "'HuggingFaceDataset' object has no attribute 'dataset'",
     "output_type": "error",
     "traceback": [
      "\u001b[1;31m---------------------------------------------------------------------------\u001b[0m",
      "\u001b[1;31mAttributeError\u001b[0m                            Traceback (most recent call last)",
      "Cell \u001b[1;32mIn[101], line 2\u001b[0m\n\u001b[0;32m      1\u001b[0m dataset \u001b[38;5;241m=\u001b[39m mlflow\u001b[38;5;241m.\u001b[39mdata\u001b[38;5;241m.\u001b[39mfrom_huggingface(\n\u001b[1;32m----> 2\u001b[0m     \u001b[43mdataset\u001b[49m\u001b[38;5;241;43m.\u001b[39;49m\u001b[43mdataset\u001b[49m, data_dir\u001b[38;5;241m=\u001b[39m\u001b[38;5;124m'\u001b[39m\u001b[38;5;124mKomeijiForce/Text2Emoji\u001b[39m\u001b[38;5;124m'\u001b[39m, name\u001b[38;5;241m=\u001b[39m\u001b[38;5;124m\"\u001b[39m\u001b[38;5;124mKomeijiForce dataset with simply processing\u001b[39m\u001b[38;5;124m\"\u001b[39m\n\u001b[0;32m      3\u001b[0m )\n",
      "\u001b[1;31mAttributeError\u001b[0m: 'HuggingFaceDataset' object has no attribute 'dataset'"
     ]
    }
   ],
   "source": [
    "dataset = mlflow.data.from_huggingface(\n",
    "    dataset.dataset, data_dir='KomeijiForce/Text2Emoji', name=\"KomeijiForce dataset with simply processing\"\n",
    ")"
   ]
  },
  {
   "cell_type": "code",
   "execution_count": 103,
   "id": "3ac42ad0-b675-4739-91ac-d056999474b4",
   "metadata": {},
   "outputs": [
    {
     "name": "stderr",
     "output_type": "stream",
     "text": [
      "2024/11/02 19:29:24 INFO mlflow.tracking._tracking_service.client: 🏃 View run 1.0-data-process at: http://127.0.0.1:5000/#/experiments/1/runs/87951d7efbbf4ec396910e5b251645ba.\n",
      "2024/11/02 19:29:24 INFO mlflow.tracking._tracking_service.client: 🧪 View experiment at: http://127.0.0.1:5000/#/experiments/1.\n"
     ]
    }
   ],
   "source": [
    "with mlflow.start_run(run_name=run_name) as run:\n",
    "    mlflow.log_input(dataset, context=\"train\")"
   ]
  },
  {
   "cell_type": "code",
   "execution_count": null,
   "id": "9e31cfc4-3fc2-4308-bca6-87e2bbb1d673",
   "metadata": {},
   "outputs": [],
   "source": []
  }
 ],
 "metadata": {
  "kernelspec": {
   "display_name": "Python 3 (ipykernel)",
   "language": "python",
   "name": "python3"
  },
  "language_info": {
   "codemirror_mode": {
    "name": "ipython",
    "version": 3
   },
   "file_extension": ".py",
   "mimetype": "text/x-python",
   "name": "python",
   "nbconvert_exporter": "python",
   "pygments_lexer": "ipython3",
   "version": "3.10.1"
  }
 },
 "nbformat": 4,
 "nbformat_minor": 5
}
